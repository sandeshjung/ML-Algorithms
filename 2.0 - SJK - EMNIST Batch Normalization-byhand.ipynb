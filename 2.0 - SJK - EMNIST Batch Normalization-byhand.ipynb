{
 "cells": [
  {
   "cell_type": "code",
   "execution_count": 1,
   "id": "b7749579-54bd-404b-a938-29099bdf8d08",
   "metadata": {},
   "outputs": [],
   "source": [
    "import torch\n",
    "import torchvision \n",
    "import matplotlib.pyplot as plt\n",
    "%matplotlib inline\n",
    "import warnings\n",
    "warnings.filterwarnings('ignore')"
   ]
  },
  {
   "cell_type": "code",
   "execution_count": 2,
   "id": "81844518-de35-4025-9c35-65e9668239c4",
   "metadata": {},
   "outputs": [
    {
     "name": "stdout",
     "output_type": "stream",
     "text": [
      "Using device: cuda\n"
     ]
    }
   ],
   "source": [
    "device = torch.device('cuda' if torch.cuda.is_available() else 'cpu')\n",
    "print(f'Using device: {device}')"
   ]
  },
  {
   "cell_type": "code",
   "execution_count": 3,
   "id": "9c1c2b70-4064-4a94-bf86-252d4de8ca18",
   "metadata": {},
   "outputs": [
    {
     "data": {
      "text/plain": [
       "Dataset EMNIST\n",
       "    Number of datapoints: 124800\n",
       "    Root location: ../data\n",
       "    Split: Train"
      ]
     },
     "execution_count": 3,
     "metadata": {},
     "output_type": "execute_result"
    }
   ],
   "source": [
    "dataset = torchvision.datasets.EMNIST(root=\"../data\", download=True, split=\"letters\")\n",
    "dataset"
   ]
  },
  {
   "cell_type": "code",
   "execution_count": 4,
   "id": "66c7783b-9776-4ce3-b936-cb81eada5200",
   "metadata": {},
   "outputs": [],
   "source": [
    "X = dataset.data\n",
    "Y = dataset.targets"
   ]
  },
  {
   "cell_type": "code",
   "execution_count": 5,
   "id": "81fb52f6-9adf-4081-80e0-e9ffdb3e952e",
   "metadata": {},
   "outputs": [
    {
     "data": {
      "text/plain": [
       "99840.0"
      ]
     },
     "execution_count": 5,
     "metadata": {},
     "output_type": "execute_result"
    }
   ],
   "source": [
    "len(dataset) * 0.8"
   ]
  },
  {
   "cell_type": "code",
   "execution_count": 6,
   "id": "db47e208-3910-44ec-afa9-c14e056de8a9",
   "metadata": {},
   "outputs": [],
   "source": [
    "train_size = 99840\n",
    "Xtrain = X[:train_size] /255\n",
    "Ytrain = Y[:train_size]\n",
    "Ytrain = Y[:train_size].unsqueeze(1)\n",
    "\n",
    "Xtest = X[train_size:] /255\n",
    "Ytest = Y[train_size:]\n",
    "Ytest = Y[train_size:].unsqueeze(1)"
   ]
  },
  {
   "cell_type": "code",
   "execution_count": 7,
   "id": "1842a57f-2cfb-4ab3-83fd-d418acca7edf",
   "metadata": {},
   "outputs": [],
   "source": [
    "ninput = 784\n",
    "nhidden = 256\n",
    "nhidden2 = 256\n",
    "batch_size =1024\n",
    "nclasses = len(dataset.classes)"
   ]
  },
  {
   "cell_type": "code",
   "execution_count": 8,
   "id": "8c87e80c-7705-4763-86e7-cacd985b8121",
   "metadata": {},
   "outputs": [],
   "source": [
    "W1 = torch.randn(ninput, nhidden, requires_grad=True) * torch.sqrt(torch.tensor(2.0) / (ninput + nhidden))\n",
    "b1 = torch.randn(1, nhidden, requires_grad=True)\n",
    "W2 = torch.randn(nhidden, nhidden2, requires_grad=True)* torch.sqrt(torch.tensor(2.0) / (nhidden + nhidden2))\n",
    "b2 = torch.randn(1, nhidden2, requires_grad=True)\n",
    "W3 = torch.randn(nhidden2, nclasses, requires_grad=True)* torch.sqrt(torch.tensor(2.0) / (nhidden + nhidden2))\n",
    "b3 = torch.zeros(1, nclasses, requires_grad=True)\n",
    "\n",
    "gamma1 = torch.ones((256,))\n",
    "gamma2 = torch.ones((256,))\n",
    "beta1 = torch.zeros((256,))\n",
    "beta2 = torch.zeros((256,))\n",
    "\n",
    "dropout_rate = 0.18\n",
    "D1 = torch.FloatTensor(1, nhidden).uniform_(0, 1) > dropout_rate\n",
    "D2 = torch.FloatTensor(1, nhidden2).uniform_(0, 1) > dropout_rate"
   ]
  },
  {
   "cell_type": "code",
   "execution_count": 9,
   "id": "6e600832-40fd-484b-8440-aa5463fc754d",
   "metadata": {},
   "outputs": [],
   "source": [
    "num_batches = len(Xtrain) // batch_size"
   ]
  },
  {
   "cell_type": "code",
   "execution_count": 10,
   "id": "84a229e6-65ac-41ba-b5e4-75d2d88de415",
   "metadata": {},
   "outputs": [],
   "source": [
    "torch.cuda.empty_cache()"
   ]
  },
  {
   "cell_type": "code",
   "execution_count": 11,
   "id": "aefd7139-1cd4-4a36-88ce-03cb691fa09a",
   "metadata": {},
   "outputs": [
    {
     "name": "stdout",
     "output_type": "stream",
     "text": [
      "Epoch 0, Loss: 1.6488641426735318, Validation Loss: 2.765514612197876\n",
      "Epoch 1, Loss: 1.1616681998537988, Validation Loss: 2.6773898601531982\n",
      "Epoch 2, Loss: 1.0539848460364587, Validation Loss: 2.640085220336914\n",
      "Epoch 3, Loss: 0.9909337623832152, Validation Loss: 2.6246461868286133\n",
      "Epoch 4, Loss: 0.9406117950518107, Validation Loss: 2.6341516971588135\n",
      "Epoch 5, Loss: 0.9017648242183567, Validation Loss: 2.6430695056915283\n",
      "Epoch 6, Loss: 0.8668801778370572, Validation Loss: 2.674844264984131\n",
      "Epoch 7, Loss: 0.8359866259024316, Validation Loss: 2.6724791526794434\n",
      "Epoch 8, Loss: 0.8104555711303789, Validation Loss: 2.7030577659606934\n",
      "Epoch 9, Loss: 0.7868572958965891, Validation Loss: 2.73860239982605\n",
      "Epoch 10, Loss: 0.7666975143029517, Validation Loss: 2.770143508911133\n",
      "Epoch 11, Loss: 0.7439986879063636, Validation Loss: 2.794480323791504\n",
      "Epoch 12, Loss: 0.7287332532332116, Validation Loss: 2.8380744457244873\n",
      "Epoch 13, Loss: 0.7134106970324958, Validation Loss: 2.8739664554595947\n",
      "Epoch 14, Loss: 0.6995540113793206, Validation Loss: 2.927544116973877\n",
      "Epoch 15, Loss: 0.6860939258152676, Validation Loss: 2.9467217922210693\n",
      "Epoch 16, Loss: 0.6717420754973421, Validation Loss: 2.9735984802246094\n",
      "Epoch 17, Loss: 0.6635551753732347, Validation Loss: 3.0367140769958496\n",
      "Epoch 18, Loss: 0.651777041327093, Validation Loss: 3.0623779296875\n",
      "Epoch 19, Loss: 0.6423130225889462, Validation Loss: 3.09663462638855\n",
      "Epoch 20, Loss: 0.630797915851947, Validation Loss: 3.1234540939331055\n",
      "Epoch 21, Loss: 0.6273832228994861, Validation Loss: 3.164142608642578\n",
      "Epoch 22, Loss: 0.6165183727274236, Validation Loss: 3.2064802646636963\n",
      "Epoch 23, Loss: 0.6086693836241653, Validation Loss: 3.246021270751953\n",
      "Epoch 24, Loss: 0.603746629867357, Validation Loss: 3.2721681594848633\n",
      "Epoch 25, Loss: 0.5983242423264021, Validation Loss: 3.299190044403076\n",
      "Epoch 26, Loss: 0.5918193139980749, Validation Loss: 3.315829277038574\n",
      "Epoch 27, Loss: 0.5875078347540393, Validation Loss: 3.402217388153076\n",
      "Epoch 28, Loss: 0.5782755975870743, Validation Loss: 3.4580471515655518\n",
      "Epoch 29, Loss: 0.5743214045603251, Validation Loss: 3.453977346420288\n",
      "Epoch 30, Loss: 0.5700308361004308, Validation Loss: 3.493102788925171\n",
      "Epoch 31, Loss: 0.5667650122003457, Validation Loss: 3.543632984161377\n",
      "Epoch 32, Loss: 0.561593553761846, Validation Loss: 3.5552384853363037\n",
      "Epoch 33, Loss: 0.5542436957973795, Validation Loss: 3.5728917121887207\n",
      "Epoch 34, Loss: 0.5579645068375105, Validation Loss: 3.595663070678711\n",
      "Epoch 35, Loss: 0.5479702009368188, Validation Loss: 3.6161298751831055\n",
      "Epoch 36, Loss: 0.5427708963757938, Validation Loss: 3.683562994003296\n",
      "Epoch 37, Loss: 0.541030164231959, Validation Loss: 3.7096714973449707\n",
      "Epoch 38, Loss: 0.5365510297190282, Validation Loss: 3.7120676040649414\n",
      "Epoch 39, Loss: 0.5359456121307058, Validation Loss: 3.7789251804351807\n",
      "Epoch 40, Loss: 0.5289731010333779, Validation Loss: 3.7933905124664307\n",
      "Epoch 41, Loss: 0.5301259199983066, Validation Loss: 3.8686301708221436\n",
      "Epoch 42, Loss: 0.5274572160440621, Validation Loss: 3.852376937866211\n",
      "Epoch 43, Loss: 0.5214962596745835, Validation Loss: 3.909717559814453\n",
      "Epoch 44, Loss: 0.518022185441145, Validation Loss: 3.851482391357422\n",
      "Epoch 45, Loss: 0.5170476550293952, Validation Loss: 3.86946177482605\n",
      "Epoch 46, Loss: 0.5141992544390491, Validation Loss: 3.9472994804382324\n",
      "Epoch 47, Loss: 0.5106783198941615, Validation Loss: 3.987870931625366\n",
      "Epoch 48, Loss: 0.5113170343576018, Validation Loss: 4.0849504470825195\n",
      "Epoch 49, Loss: 0.5048126243438917, Validation Loss: 4.042362689971924\n",
      "Epoch 50, Loss: 0.5034331418189806, Validation Loss: 4.101568222045898\n",
      "Epoch 51, Loss: 0.5033801704952398, Validation Loss: 4.137063026428223\n",
      "Epoch 52, Loss: 0.5042597427196109, Validation Loss: 3.9886093139648438\n",
      "Epoch 53, Loss: 0.4991552126161831, Validation Loss: 4.137821197509766\n",
      "Epoch 54, Loss: 0.49651539172093895, Validation Loss: 4.106691360473633\n",
      "Epoch 55, Loss: 0.49468074324204747, Validation Loss: 4.177586555480957\n",
      "Epoch 56, Loss: 0.49536224124357875, Validation Loss: 4.190049171447754\n",
      "Epoch 57, Loss: 0.4916351197921124, Validation Loss: 4.124519348144531\n",
      "Epoch 58, Loss: 0.48688960382618857, Validation Loss: 4.175497055053711\n",
      "Epoch 59, Loss: 0.4877545071631363, Validation Loss: 4.307144641876221\n",
      "Epoch 60, Loss: 0.48618026830486416, Validation Loss: 4.304787635803223\n",
      "Epoch 61, Loss: 0.4831144044694212, Validation Loss: 4.303581714630127\n",
      "Epoch 62, Loss: 0.48288214421763864, Validation Loss: 4.367708683013916\n",
      "Epoch 63, Loss: 0.481784177502406, Validation Loss: 4.312952041625977\n",
      "Epoch 64, Loss: 0.47949716848196444, Validation Loss: 4.4710564613342285\n",
      "Epoch 65, Loss: 0.47654763540041817, Validation Loss: 4.388339996337891\n",
      "Epoch 66, Loss: 0.4792893043498403, Validation Loss: 4.389608383178711\n",
      "Epoch 67, Loss: 0.47668111293586257, Validation Loss: 4.46229887008667\n",
      "Epoch 68, Loss: 0.4731680809222546, Validation Loss: 4.46199893951416\n",
      "Epoch 69, Loss: 0.46958509548423216, Validation Loss: 4.479315280914307\n",
      "Epoch 70, Loss: 0.4691085194804005, Validation Loss: 4.4623637199401855\n",
      "Epoch 71, Loss: 0.46686592667373183, Validation Loss: 4.4907941818237305\n",
      "Epoch 72, Loss: 0.46402686066234233, Validation Loss: 4.556414604187012\n",
      "Epoch 73, Loss: 0.46387969894507497, Validation Loss: 4.560955047607422\n",
      "Epoch 74, Loss: 0.46758884130064976, Validation Loss: 4.508414268493652\n",
      "Epoch 75, Loss: 0.46471237829051065, Validation Loss: 4.546291828155518\n",
      "Epoch 76, Loss: 0.46176739605431705, Validation Loss: 4.55216121673584\n",
      "Epoch 77, Loss: 0.4630037586099094, Validation Loss: 4.5732316970825195\n",
      "Epoch 78, Loss: 0.46299765282070515, Validation Loss: 4.608548641204834\n",
      "Epoch 79, Loss: 0.45765675035948605, Validation Loss: 4.611286640167236\n",
      "Epoch 80, Loss: 0.4586014778343673, Validation Loss: 4.642336845397949\n",
      "Epoch 81, Loss: 0.457427612899505, Validation Loss: 4.622719764709473\n",
      "Epoch 82, Loss: 0.4542237547869535, Validation Loss: 4.705652713775635\n",
      "Epoch 83, Loss: 0.45458650312472865, Validation Loss: 4.698633670806885\n",
      "Epoch 84, Loss: 0.45425006716521743, Validation Loss: 4.751944541931152\n",
      "Epoch 85, Loss: 0.45187893940001417, Validation Loss: 4.762550354003906\n",
      "Epoch 86, Loss: 0.4549294246226242, Validation Loss: 4.791696071624756\n",
      "Epoch 87, Loss: 0.4491251031148065, Validation Loss: 4.74554967880249\n",
      "Epoch 88, Loss: 0.4491428766668457, Validation Loss: 4.817312240600586\n",
      "Epoch 89, Loss: 0.4515391870872262, Validation Loss: 4.815759658813477\n",
      "Epoch 90, Loss: 0.44731180876800697, Validation Loss: 4.904207706451416\n",
      "Epoch 91, Loss: 0.44809540215226795, Validation Loss: 4.869326114654541\n",
      "Epoch 92, Loss: 0.44779000054929674, Validation Loss: 4.900528430938721\n",
      "Epoch 93, Loss: 0.44522294525018674, Validation Loss: 4.905208587646484\n",
      "Epoch 94, Loss: 0.4448990800331548, Validation Loss: 4.91454553604126\n",
      "Epoch 95, Loss: 0.44516717926743105, Validation Loss: 4.841780662536621\n",
      "Epoch 96, Loss: 0.44368729701976184, Validation Loss: 4.814492702484131\n",
      "Epoch 97, Loss: 0.4413692619382721, Validation Loss: 4.905721664428711\n",
      "Epoch 98, Loss: 0.44063952380848914, Validation Loss: 4.806474208831787\n",
      "Epoch 99, Loss: 0.43974204960557606, Validation Loss: 4.958938121795654\n"
     ]
    }
   ],
   "source": [
    "alpha = 0.1\n",
    "losses = []\n",
    "val_losses = []\n",
    "epsilon = 1e-5\n",
    "max_grad_norm = 0.01\n",
    "\n",
    "# Move model and tensors to device\n",
    "W1 = W1.to(device)\n",
    "b1 = b1.to(device)\n",
    "W2 = W2.to(device)\n",
    "b2 = b2.to(device)\n",
    "W3 = W3.to(device)\n",
    "b3 = b3.to(device)\n",
    "D1 = D1.to(device)\n",
    "D2 = D2.to(device)\n",
    "gamma1 = gamma1.to(device)\n",
    "gamma2 = gamma2.to(device)\n",
    "beta1 = beta1.to(device)\n",
    "beta2 = beta2.to(device)\n",
    "Xtrain = Xtrain.to(device)\n",
    "Ytrain = Ytrain.to(device)\n",
    "Xtest = Xtest.to(device)\n",
    "Ytest = Ytest.to(device)\n",
    "\n",
    "for epoch in range(100):\n",
    "    epoch_loss = 0.0\n",
    "    for i in range(num_batches):\n",
    "        # Create batch\n",
    "        torch.cuda.empty_cache()\n",
    "        \n",
    "        start_idx = i * batch_size\n",
    "        end_idx = (i + 1) * batch_size\n",
    "        X_batch = Xtrain[start_idx:end_idx]\n",
    "        Y_batch = Ytrain[start_idx:end_idx]\n",
    "\n",
    "        # Forward pass with batch normalization\n",
    "        Z1 = X_batch.view(-1, ninput) @ W1 + b1\n",
    "        mean1 = Z1.mean(dim=0, keepdim=True)\n",
    "        var1 = Z1.var(dim=0, keepdim=True, unbiased=False)\n",
    "        Z1_hat = (Z1 - mean1)/torch.sqrt(var1 + epsilon)\n",
    "        Z1_bn = gamma1 * Z1_hat + beta1\n",
    "        A1 = torch.tanh(Z1_bn)\n",
    "\n",
    "         # Apply dropout to A1\n",
    "        D1 = torch.FloatTensor(A1.size()).uniform_(0, 1).to(A1.device) > dropout_rate\n",
    "        A1_drop = A1 * D1 / (1 - dropout_rate)  # Apply dropout\n",
    "        \n",
    "        Z2 = A1_drop @ W2 + b2\n",
    "        mean2 = Z2.mean(dim=0, keepdim=True)\n",
    "        var2 = Z2.var(dim=0, keepdim=True, unbiased=False)\n",
    "        Z2_hat = (Z2 - mean2)/torch.sqrt(var2 + epsilon)\n",
    "        Z2_bn = gamma2 * Z2_hat + beta2\n",
    "        A2 = torch.tanh(Z2_bn)\n",
    "\n",
    "        # Apply dropout to A2\n",
    "        D2 = torch.FloatTensor(A2.size()).uniform_(0, 1).to(A1.device) > dropout_rate\n",
    "        A2_drop = A2 * D2 / (1 - dropout_rate)  # Apply dropout\n",
    "        \n",
    "        Z3 = A2_drop @ W3 + b3\n",
    "        zmax = Z3.max(dim=1, keepdim=True).values\n",
    "        znorm = Z3 - zmax\n",
    "        zexp = znorm.exp()\n",
    "        zexp_sum = zexp.sum(dim=1, keepdim=True)\n",
    "        zexp_sum_inv = zexp_sum ** (-1)\n",
    "        probs = zexp * zexp_sum_inv\n",
    "        log_probs = probs.log()\n",
    "        L = -log_probs[torch.arange(len(Y_batch)), Y_batch.squeeze()].mean()\n",
    "        epoch_loss += L.item()\n",
    "\n",
    "        # for i in [zexp, zexp_sum, zexp_sum_inv, znorm, zmax, probs, log_probs, Z3, W3, b3, Z2, b2, W2, Z1, W1, b1, L]:\n",
    "        #     i.retain_grad()\n",
    "        # L.backward()\n",
    "\n",
    "        # Backward pass\n",
    "        dL_dL = torch.ones_like(L)\n",
    "        dL_dlogprobs = torch.zeros_like(log_probs)\n",
    "        dL_dlogprobs[torch.arange(len(Y_batch)), Y_batch.squeeze()] = -dL_dL / len(Y_batch)\n",
    "        dL_dprobs = dL_dlogprobs * 1 / probs\n",
    "        dL_dzexp = dL_dprobs * zexp_sum_inv\n",
    "        dL_dzexp_sum_inv = (dL_dprobs * zexp).sum(1, keepdim=True)\n",
    "        dL_dzexp_sum = -1 * dL_dzexp_sum_inv * zexp_sum**(-2)\n",
    "        dL_dzexp += dL_dzexp_sum\n",
    "        dL_dznorm = dL_dzexp * zexp.clone()\n",
    "        dL_dzmax = -dL_dznorm.sum(1, keepdim=True)\n",
    "        dL_dZ = dL_dznorm\n",
    "        dL_dZ += torch.nn.functional.one_hot(Z3.max(dim=1).indices, nclasses) * dL_dzmax\n",
    "        \n",
    "        dL_dW3 = A2.T @ dL_dZ\n",
    "        dL_db3 = dL_dZ.sum(0, keepdim=True)\n",
    "        dL_dA2 = dL_dZ @ W3.T\n",
    "        dL_dA2 = dL_dA2 * D2 / (1 - dropout_rate) \n",
    "        \n",
    "        dL_dZ2_bn = dL_dA2 * (1 - A2**2)\n",
    "        dL_dgamma2 = (dL_dZ2_bn * Z2_hat).sum(0)\n",
    "        dL_dbeta2 = dL_dZ2_bn.sum(0)\n",
    "        dL_dZ2_hat = dL_dZ2_bn * gamma2\n",
    "        dL_dZ2 = dL_dZ2_hat / torch.sqrt(var2 + epsilon)\n",
    "        dL_dvar2 = (dL_dZ2_hat * (Z2 - mean2) * -0.5 * (var2 + epsilon)**(-1.5)).sum(0)\n",
    "        dL_dmean2 = (dL_dZ2_hat * (-1 / torch.sqrt(var2 + epsilon))).sum(0) + dL_dvar2 * ((-2 * (Z2 - mean2)).sum(0) / len(Z2)) \n",
    "        dL_dZ2 += ((dL_dvar2 * 2 * (Z2 - mean2)/len(Z2)) + dL_dmean2 * 1/len(Z2))\n",
    "        dL_dA1 = dL_dZ2 @ W2.T\n",
    "        dL_dA1 = dL_dA1 * D2 / (1 - dropout_rate) \n",
    "        \n",
    "        dL_dZ1_bn = dL_dA1 * (1 - A1**2)\n",
    "        dL_dgamma1 = (dL_dZ1_bn * Z1_hat).sum(0)\n",
    "        dL_dbeta1 = dL_dZ1_bn.sum(0)\n",
    "        dL_dZ1_hat = dL_dZ1_bn * gamma1\n",
    "        dL_dZ1 = dL_dZ1_hat / torch.sqrt(var1 + epsilon)\n",
    "        dL_dvar1 = (dL_dZ1_hat * (Z1 - mean1) * -0.5 * (var1 + epsilon)**(-1.5)).sum(0)\n",
    "        dL_dmean1 = (dL_dZ1_hat * (-1 / torch.sqrt(var1 + epsilon))).sum(0) + dL_dvar1 * ((-2 * (Z1 - mean1)).sum(0) / len(Z1))\n",
    "        dL_dZ1 += ((dL_dvar1 * 2 * (Z1 - mean1)/len(Z1)) + dL_dmean1 * 1/len(Z1))\n",
    "        \n",
    "        dL_dW2 = A1.T @ dL_dZ2\n",
    "        dL_db2 = dL_dZ2.sum(0, keepdim=True)\n",
    "        # dL_dA1 = dL_dZ2 @ W2.T\n",
    "        # dL_dZ1 = dL_dA1 * (1 - A1**2)\n",
    "        dL_dW1 = X_batch.view(-1, ninput).T @ dL_dZ1\n",
    "        dL_db1 = dL_dZ1.sum(0, keepdim=True)\n",
    "\n",
    "        torch.nn.utils.clip_grad_norm_([W1, b1, W2, b2, W3, b3], max_grad_norm)\n",
    "        for param, grad in zip([W1, b1, W2, b2, W3, b3], [dL_dW1, dL_db1, dL_dW2, dL_db2, dL_dW3, dL_db3]):\n",
    "            grad_norm = torch.norm(grad)\n",
    "            if grad_norm > max_grad_norm:\n",
    "                grad = grad / grad_norm * max_grad_norm\n",
    "\n",
    "        with torch.no_grad():\n",
    "            W1 -= alpha * dL_dW1\n",
    "            b1 -= alpha * dL_db1\n",
    "            W2 -= alpha * dL_dW2\n",
    "            b2 -= alpha * dL_db2\n",
    "            W3 -= alpha * dL_dW3\n",
    "            b3 -= alpha * dL_db3\n",
    "          \n",
    "        # break\n",
    "    # Calculate validation loss\n",
    "    val_loss = 0.0\n",
    "    # max_grad_norm = 1.0  # Set the maximum gradient norm\n",
    "    # torch.nn.utils.clip_grad_norm_(model.parameters(), max_grad_norm)\n",
    "    # with torch.no_grad():\n",
    "    #     for j in range(len(Xtest) // batch_size):\n",
    "    #         start_idx = j * batch_size\n",
    "    #         end_idx = (j + 1) * batch_size\n",
    "    #         X_val = Xtest[start_idx:end_idx]\n",
    "    #         Y_val = Ytest[start_idx:end_idx]\n",
    "\n",
    "    #         Z1_val = X_val.view(-1, ninput) @ W1 + b1\n",
    "    #         A1_val = torch.tanh(Z1_val)\n",
    "    #         Z2_val = A1_val @ W2 + b2\n",
    "    #         A2_val = torch.tanh(Z2_val)\n",
    "    #         Z3_val = A2_val @ W3 + b3\n",
    "    #         val_loss += -torch.nn.functional.log_softmax(Z3_val, dim=1)[torch.arange(len(Y_val)), Y_val.squeeze()].mean().item()\n",
    "    # val_loss /= (len(Xtest) // batch_size)\n",
    "\n",
    "    # losses.append(epoch_loss / num_batches)\n",
    "    # val_losses.append(val_loss)\n",
    "\n",
    "    # print(f\"Epoch {epoch}, Loss: {losses[-1]}, Validation Loss: {val_losses[-1]}\")\n",
    "    val_loss = 0.0\n",
    "    with torch.no_grad():\n",
    "        Z1_val = Xtest.view(-1, ninput) @ W1 + b1\n",
    "        A1_val = torch.tanh(Z1_val)\n",
    "        Z2_val = A1_val @ W2 + b2\n",
    "        A2_val = torch.tanh(Z2_val)\n",
    "        Z3_val = A2_val @ W3 + b3\n",
    "        val_loss = -torch.nn.functional.log_softmax(Z3_val, dim=1)[torch.arange(len(Ytest)), Ytest.squeeze()].mean().item()\n",
    "\n",
    "    losses.append(epoch_loss / num_batches)\n",
    "    val_losses.append(val_loss)\n",
    "\n",
    "    print(f\"Epoch {epoch}, Loss: {losses[-1]}, Validation Loss: {val_losses[-1]}\")"
   ]
  },
  {
   "cell_type": "code",
   "execution_count": 12,
   "id": "900d43ec-1f95-49b6-95bb-d979db9127db",
   "metadata": {},
   "outputs": [],
   "source": [
    "def compare_grad(s, dX, X):\n",
    "    exact = torch.all(dX == X.grad).item()\n",
    "    close = torch.allclose(dX, X.grad)\n",
    "    maxdiff = (dX - X.grad).abs().max().item()\n",
    "    print(f\"{s:15s} | exact: {str(exact):5s} | approximate:{str(close):5s} | maxdiff: {maxdiff}\")"
   ]
  },
  {
   "cell_type": "code",
   "execution_count": 13,
   "id": "d8517e01-6a37-4305-9c4c-4a07437a7c37",
   "metadata": {},
   "outputs": [],
   "source": [
    "# compare_grad('logprobs', dL_dlogprobs, log_probs)\n",
    "# compare_grad('probs', dL_dprobs, probs)\n",
    "# compare_grad('zexp', dL_dzexp, zexp)\n",
    "# compare_grad('zexp_sum_inv', dL_dzexp_sum_inv, zexp_sum_inv)\n",
    "# compare_grad('zexp_sum', dL_dzexp_sum, zexp_sum)\n",
    "# compare_grad('znorm', dL_dznorm, znorm)\n",
    "# compare_grad('zmax', dL_dzmax, zmax)\n",
    "# compare_grad('Z2', dL_dZ2, Z2)\n",
    "# compare_grad('W2', dL_dW2, W2)\n",
    "# compare_grad('b2', dL_db2, b2)\n",
    "# compare_grad('Z1', dL_dZ1, Z1)\n",
    "# compare_grad('W1', dL_dW1, W1)\n",
    "# compare_grad('b1', dL_db1, b1)\n"
   ]
  },
  {
   "cell_type": "code",
   "execution_count": 14,
   "id": "dc0ec3a4-42b2-4071-9334-f9361bbd7778",
   "metadata": {},
   "outputs": [
    {
     "data": {
      "image/png": "[encoded data removed]",
      "text/plain": [
       "<Figure size 640x480 with 1 Axes>"
      ]
     },
     "metadata": {},
     "output_type": "display_data"
    }
   ],
   "source": [
    "plt.plot(losses, label='Training Loss')\n",
    "plt.plot(val_losses, label='Validation Loss')\n",
    "plt.legend()\n",
    "plt.title('Training and Validation Losses')\n",
    "plt.xlabel('Epoch')\n",
    "plt.ylabel('Loss')\n",
    "plt.show()"
   ]
  },
  {
   "cell_type": "code",
   "execution_count": 15,
   "id": "3dcbe7f6-8f51-4162-9120-0c0a0515f363",
   "metadata": {},
   "outputs": [
    {
     "name": "stdout",
     "output_type": "stream",
     "text": [
      "Test Accuracy: 0.17664262820512822\n"
     ]
    }
   ],
   "source": [
    "correct = 0\n",
    "total = 0\n",
    "\n",
    "with torch.no_grad():\n",
    "    for i in range(len(Xtest)):\n",
    "        Z1 = Xtest[i].view(1, -1) @ W1 + b1\n",
    "        A1 = torch.tanh(Z1)\n",
    "        Z2 = A1 @ W2 + b2\n",
    "        A2 = torch.tanh(Z2)\n",
    "        Z3 = A2 @ W3 + b3\n",
    "        predicted_class = torch.argmax(Z3, dim=1)\n",
    "\n",
    "        if predicted_class == Ytest[i]:\n",
    "            correct += 1\n",
    "        total += 1\n",
    "accuracy = correct / total\n",
    "print(f\"Test Accuracy: {accuracy}\")\n"
   ]
  },
  {
   "cell_type": "code",
   "execution_count": null,
   "id": "c4276a81-0903-456f-ba40-fa23adb69205",
   "metadata": {},
   "outputs": [],
   "source": []
  },
  {
   "cell_type": "code",
   "execution_count": null,
   "id": "005f8e00-353c-42e1-b0dd-02b0acde0551",
   "metadata": {},
   "outputs": [],
   "source": []
  }
 ],
 "metadata": {
  "kernelspec": {
   "display_name": "Python 3 (ipykernel)",
   "language": "python",
   "name": "python3"
  },
  "language_info": {
   "codemirror_mode": {
    "name": "ipython",
    "version": 3
   },
   "file_extension": ".py",
   "mimetype": "text/x-python",
   "name": "python",
   "nbconvert_exporter": "python",
   "pygments_lexer": "ipython3",
   "version": "3.8.18"
  }
 },
 "nbformat": 4,
 "nbformat_minor": 5
}
