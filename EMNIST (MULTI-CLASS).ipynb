{
 "cells": [
  {
   "cell_type": "code",
   "execution_count": 12,
   "id": "a72b5a25-3e6e-4b5d-a9d3-c7a1c5823c04",
   "metadata": {},
   "outputs": [],
   "source": [
    "import torch\n",
    "import matplotlib.pyplot as plt\n",
    "from torchvision.datasets.utils import download_url\n",
    "import os\n",
    "import numpy as np\n",
    "import torchvision"
   ]
  },
  {
   "cell_type": "code",
   "execution_count": 13,
   "id": "757f1ca2-1b78-47ed-b5d8-fe8ebac02829",
   "metadata": {},
   "outputs": [
    {
     "name": "stdout",
     "output_type": "stream",
     "text": [
      "'EMNIST (MULTI-CLASS).ipynb'\n"
     ]
    }
   ],
   "source": [
    "!ls"
   ]
  },
  {
   "cell_type": "code",
   "execution_count": 14,
   "id": "b425817d-8c0e-417b-8dbf-e21eadcae137",
   "metadata": {},
   "outputs": [],
   "source": [
    "# raw_folder = '../data/EMNIST/raw'\n",
    "# url = 'https://biometrics.nist.gov/cs_links/EMNIST/gzip.zip'\n",
    "# md5 = \"58c8d27c78d21e728a6bc7b3cc06412e\"\n",
    "\n",
    "# version_numbers = list(map(int, torchvision.__version__.split('+')[0].split('.')))\n",
    "# if version_numbers[0] == 0 and version_numbers[1] < 10:\n",
    "#     filename = \"emnist.zip\"\n",
    "# else:\n",
    "#     filename = None\n",
    "\n",
    "# os.makedirs(raw_folder, exist_ok=True)\n",
    "\n",
    "# # download files\n",
    "# print('Downloading zip archive')\n",
    "# download_url(url, root=raw_folder, filename=filename, md5=md5)"
   ]
  },
  {
   "cell_type": "code",
   "execution_count": 15,
   "id": "a4fef18b-8421-4aa4-8dba-615bb7ae13c5",
   "metadata": {},
   "outputs": [],
   "source": [
    "root_dir = \"../data\" \n",
    "\n",
    "dataset = torchvision.datasets.EMNIST(root=root_dir,\n",
    "                                   split=\"letters\",\n",
    "                                   train=True,\n",
    "                                   download=True)"
   ]
  },
  {
   "cell_type": "code",
   "execution_count": 16,
   "id": "facd62f5-1f02-47c6-a98e-86beb0a5f512",
   "metadata": {},
   "outputs": [
    {
     "data": {
      "text/plain": [
       "Dataset EMNIST\n",
       "    Number of datapoints: 124800\n",
       "    Root location: ../data\n",
       "    Split: Train"
      ]
     },
     "execution_count": 16,
     "metadata": {},
     "output_type": "execute_result"
    }
   ],
   "source": [
    "dataset"
   ]
  },
  {
   "cell_type": "code",
   "execution_count": 17,
   "id": "f06ee1ef-3f2e-4ec8-ba7e-59cc2cd10854",
   "metadata": {},
   "outputs": [
    {
     "data": {
      "text/plain": [
       "['N/A',\n",
       " 'a',\n",
       " 'b',\n",
       " 'c',\n",
       " 'd',\n",
       " 'e',\n",
       " 'f',\n",
       " 'g',\n",
       " 'h',\n",
       " 'i',\n",
       " 'j',\n",
       " 'k',\n",
       " 'l',\n",
       " 'm',\n",
       " 'n',\n",
       " 'o',\n",
       " 'p',\n",
       " 'q',\n",
       " 'r',\n",
       " 's',\n",
       " 't',\n",
       " 'u',\n",
       " 'v',\n",
       " 'w',\n",
       " 'x',\n",
       " 'y',\n",
       " 'z']"
      ]
     },
     "execution_count": 17,
     "metadata": {},
     "output_type": "execute_result"
    }
   ],
   "source": [
    "dataset.classes"
   ]
  },
  {
   "cell_type": "code",
   "execution_count": 18,
   "id": "c9601a0d-8b98-43a3-856b-52bce6a3afe9",
   "metadata": {},
   "outputs": [
    {
     "data": {
      "text/plain": [
       "27"
      ]
     },
     "execution_count": 18,
     "metadata": {},
     "output_type": "execute_result"
    }
   ],
   "source": [
    "len(dataset.classes)"
   ]
  },
  {
   "cell_type": "code",
   "execution_count": 19,
   "id": "968c898c-2d10-40f7-9736-d3d4e05c11e5",
   "metadata": {},
   "outputs": [],
   "source": [
    "X = dataset.data\n",
    "Y = dataset.targets"
   ]
  },
  {
   "cell_type": "code",
   "execution_count": 20,
   "id": "e669d4ba-d0fb-40e9-ad32-9a3e7db51bc0",
   "metadata": {},
   "outputs": [
    {
     "data": {
      "text/plain": [
       "(torch.Size([124800, 28, 28]), torch.Size([124800]))"
      ]
     },
     "execution_count": 20,
     "metadata": {},
     "output_type": "execute_result"
    }
   ],
   "source": [
    "X.shape, Y.shape"
   ]
  },
  {
   "cell_type": "code",
   "execution_count": 21,
   "id": "cf328bbe-9b58-4473-8400-34d10166ad6c",
   "metadata": {},
   "outputs": [
    {
     "data": {
      "text/plain": [
       "<matplotlib.image.AxesImage at 0x7bc1c82f1490>"
      ]
     },
     "execution_count": 21,
     "metadata": {},
     "output_type": "execute_result"
    },
    {
     "data": {
      "image/png": "[encoded data removed]",
      "text/plain": [
       "<Figure size 640x480 with 1 Axes>"
      ]
     },
     "metadata": {},
     "output_type": "display_data"
    }
   ],
   "source": [
    "plt.imshow(X[0])"
   ]
  },
  {
   "cell_type": "code",
   "execution_count": 22,
   "id": "987595c4-4efd-4ac9-8518-bd145beacad9",
   "metadata": {},
   "outputs": [],
   "source": [
    "train_size = int(len(dataset) * 0.8)\n",
    "X_train = X[:train_size] /255\n",
    "Y_train = Y[:train_size]\n",
    "Y_train = Y[:train_size].unsqueeze(1)\n",
    "\n",
    "X_test = X[train_size:] /255\n",
    "Y_test = Y[train_size:]\n",
    "Y_test = Y[train_size:].unsqueeze(1)"
   ]
  },
  {
   "cell_type": "code",
   "execution_count": 23,
   "id": "f51f654c-f8fa-4b23-a52d-9906404d5964",
   "metadata": {},
   "outputs": [],
   "source": [
    "torch.manual_seed(42)\n",
    "\n",
    "# n_classes = X_train.shape[1]\n",
    "n_classes = len(dataset.classes)\n",
    "alpha = 0.08\n",
    "losses = []\n",
    "train_losses = []\n",
    "\n",
    "input_size = 28 * 28\n",
    "W = torch.randn(input_size, n_classes, requires_grad=True) * 0.05\n",
    "b = torch.randn(1, n_classes, requires_grad=True)"
   ]
  },
  {
   "cell_type": "code",
   "execution_count": 24,
   "id": "3d078946-2e48-47e3-8bdf-d50e9b2ba2f8",
   "metadata": {},
   "outputs": [
    {
     "data": {
      "text/plain": [
       "(torch.Size([784, 27]),\n",
       " torch.Size([1, 27]),\n",
       " torch.Size([99840, 28, 28]),\n",
       " torch.Size([99840, 1]))"
      ]
     },
     "execution_count": 24,
     "metadata": {},
     "output_type": "execute_result"
    }
   ],
   "source": [
    "W.shape, b.shape, X_train.shape, Y_train.shape"
   ]
  },
  {
   "cell_type": "code",
   "execution_count": 25,
   "id": "226db503-9c7c-4237-9d29-77dc5448f735",
   "metadata": {},
   "outputs": [
    {
     "name": "stdout",
     "output_type": "stream",
     "text": [
      "Epoch: 0, Loss: 1.517195063730208, Learning Rate: 0.08, val_loss: 1.234602928161621\n",
      "Epoch: 10, Loss: 1.1091602220133983, Learning Rate: 0.08, val_loss: 1.0424944162368774\n",
      "Epoch: 20, Loss: 1.0586269096727525, Learning Rate: 0.08, val_loss: 1.0211420059204102\n",
      "Epoch: 30, Loss: 1.0343222726155064, Learning Rate: 0.08, val_loss: 1.0134996175765991\n",
      "Epoch: 40, Loss: 1.0192244860986786, Learning Rate: 0.08, val_loss: 1.0112745761871338\n",
      "Epoch: 50, Loss: 1.0086767754614367, Learning Rate: 0.08, val_loss: 1.0110417604446411\n",
      "Epoch: 60, Loss: 1.0007674493331462, Learning Rate: 0.08, val_loss: 1.007611870765686\n",
      "Epoch: 70, Loss: 0.9945033391728779, Learning Rate: 0.08, val_loss: 1.007245421409607\n",
      "Epoch: 80, Loss: 0.989401448056771, Learning Rate: 0.08, val_loss: 1.0081082582473755\n",
      "Epoch: 90, Loss: 0.9851370604064305, Learning Rate: 0.08, val_loss: 1.0072312355041504\n",
      "Epoch: 100, Loss: 0.9814733244078503, Learning Rate: 0.08, val_loss: 1.0082767009735107\n",
      "Epoch: 110, Loss: 0.9783067488352425, Learning Rate: 0.08, val_loss: 1.0097270011901855\n",
      "Epoch: 120, Loss: 0.9755286432247555, Learning Rate: 0.08, val_loss: 1.0112723112106323\n",
      "Epoch: 130, Loss: 0.973057205665311, Learning Rate: 0.08, val_loss: 1.0098832845687866\n",
      "Epoch: 140, Loss: 0.9708405988650559, Learning Rate: 0.08, val_loss: 1.0098943710327148\n",
      "Epoch: 150, Loss: 0.9688306045517469, Learning Rate: 0.08, val_loss: 1.0128687620162964\n",
      "Epoch: 160, Loss: 0.9670013322332548, Learning Rate: 0.08, val_loss: 1.009850025177002\n",
      "Epoch: 170, Loss: 0.9653257987636539, Learning Rate: 0.08, val_loss: 1.012486219406128\n",
      "Epoch: 180, Loss: 0.9637839139402159, Learning Rate: 0.08, val_loss: 1.011337399482727\n",
      "Epoch: 190, Loss: 0.9623556929049848, Learning Rate: 0.08, val_loss: 1.0130664110183716\n",
      "Epoch: 200, Loss: 0.9610311072751291, Learning Rate: 0.08, val_loss: 1.0138328075408936\n",
      "Epoch: 210, Loss: 0.9597938774516273, Learning Rate: 0.08, val_loss: 1.0152899026870728\n",
      "Epoch: 220, Loss: 0.9586360101500545, Learning Rate: 0.08, val_loss: 1.0136291980743408\n",
      "Epoch: 230, Loss: 0.9575491011514081, Learning Rate: 0.08, val_loss: 1.0143616199493408\n",
      "Epoch: 240, Loss: 0.9565246840610229, Learning Rate: 0.08, val_loss: 1.0158617496490479\n",
      "Epoch: 250, Loss: 0.9555556369626214, Learning Rate: 0.08, val_loss: 1.0204092264175415\n",
      "Epoch: 260, Loss: 0.9546372737228932, Learning Rate: 0.08, val_loss: 1.016815423965454\n",
      "Epoch: 270, Loss: 0.9537651782801523, Learning Rate: 0.08, val_loss: 1.0176047086715698\n",
      "Epoch: 280, Loss: 0.9529430799229311, Learning Rate: 0.08, val_loss: 1.0169175863265991\n",
      "Epoch: 290, Loss: 0.9521583331989986, Learning Rate: 0.08, val_loss: 1.020262598991394\n",
      "Epoch: 300, Loss: 0.9514079480721436, Learning Rate: 0.08, val_loss: 1.0180130004882812\n",
      "Epoch: 310, Loss: 0.950689542976414, Learning Rate: 0.08, val_loss: 1.0179219245910645\n",
      "Epoch: 320, Loss: 0.9500032162479305, Learning Rate: 0.08, val_loss: 1.0222394466400146\n",
      "Epoch: 330, Loss: 0.9493465380058306, Learning Rate: 0.08, val_loss: 1.0196945667266846\n",
      "Epoch: 340, Loss: 0.9487165491554715, Learning Rate: 0.08, val_loss: 1.019167423248291\n",
      "Epoch: 350, Loss: 0.9481140740803413, Learning Rate: 0.08, val_loss: 1.0209382772445679\n",
      "Epoch: 360, Loss: 0.9475326167446104, Learning Rate: 0.08, val_loss: 1.0199047327041626\n",
      "Epoch: 370, Loss: 0.946972417210321, Learning Rate: 0.08, val_loss: 1.020477533340454\n",
      "Epoch: 380, Loss: 0.9464298860083685, Learning Rate: 0.08, val_loss: 1.0225183963775635\n",
      "Epoch: 390, Loss: 0.9459070544095243, Learning Rate: 0.08, val_loss: 1.0230571031570435\n"
     ]
    }
   ],
   "source": [
    "num_epochs = 400\n",
    "batch_size = 128\n",
    "\n",
    "# Set learning rate decay parameters\n",
    "decay_factor = 0.1\n",
    "decay_epochs = 10\n",
    "prev_val_loss = float('inf')\n",
    "count = 0\n",
    "val_losses = []\n",
    "\n",
    "for epoch in range(num_epochs):\n",
    "    # Shuffle the dataset\n",
    "    indices = torch.randperm(len(X_train))\n",
    "    \n",
    "    for start in range(0, len(X_train), batch_size):\n",
    "        end = min(start + batch_size, len(X_train))\n",
    "        batch_indices = indices[start:end]\n",
    "        \n",
    "        # Extract batch\n",
    "        X_batch = X_train[batch_indices]\n",
    "        Y_batch = Y_train[batch_indices]\n",
    "        \n",
    "        # Forward pass\n",
    "        Z = X_batch.view(-1, input_size) @ W + b\n",
    "        zmax = Z.max(dim=1, keepdim=True).values\n",
    "        znorm = Z - zmax\n",
    "        \n",
    "        zexp = znorm.exp() \n",
    "        zexp_sum = zexp.sum(dim=1, keepdim=True)\n",
    "        zexp_sum_inv = zexp_sum ** (-1)\n",
    "        probs = zexp * zexp_sum_inv\n",
    "        log_probs = probs.log()\n",
    "        L = -log_probs[torch.arange(len(Y_batch)), Y_batch.squeeze()].mean()\n",
    "        losses.append(L.item()) # batch loss\n",
    "        \n",
    "        # Compute gradients\n",
    "        dL_dL = torch.ones_like(L)\n",
    "        dL_dlogprobs = torch.zeros_like(log_probs)\n",
    "        dL_dlogprobs[torch.arange(len(Y_batch)), Y_batch.squeeze()] = -dL_dL / len(Y_batch)\n",
    "        dL_dprobs = dL_dlogprobs * 1 / probs\n",
    "        \n",
    "        dL_dzexp = dL_dprobs * zexp_sum_inv\n",
    "        dL_dzexp_sum_inv = (dL_dprobs * zexp).sum(1, keepdim=True)\n",
    "        dL_dzexp_sum = -1 * dL_dzexp_sum_inv * zexp_sum**(-2)\n",
    "        dL_dzexp += dL_dzexp_sum\n",
    "        dL_dznorm = dL_dzexp * zexp.clone()\n",
    "        \n",
    "        dL_dzmax = -dL_dznorm.sum(1, keepdim=True)\n",
    "        dL_dZ = dL_dznorm\n",
    "        dL_dZ += torch.nn.functional.one_hot(Z.max(dim=1).indices, n_classes) * dL_dzmax\n",
    "        \n",
    "        dL_dW = X_batch.view(-1, input_size).T @ dL_dZ\n",
    "        dL_db = dL_dZ.sum(0, keepdim=True)\n",
    "        \n",
    "        # Update parameters using SGD\n",
    "        with torch.no_grad():\n",
    "            W -= alpha * dL_dW\n",
    "            b -= alpha * dL_db\n",
    "        \n",
    "\n",
    "    train_loss = np.mean(losses)\n",
    "    train_losses.append(train_loss)  # Store the epoch training loss\n",
    "    \n",
    "    # Perform validation\n",
    "    with torch.no_grad():\n",
    "        Z_val = X_test.view(-1, input_size) @ W + b\n",
    "        loss = -torch.log_softmax(Z_val, dim=1)[torch.arange(len(Y_test)), Y_test.squeeze()].mean()\n",
    "        val_loss = loss.item()\n",
    "        if val_loss > prev_val_loss:\n",
    "            count += 1\n",
    "        else:\n",
    "            count = 0\n",
    "        if count >= decay_epochs:\n",
    "            alpha *= decay_factor\n",
    "            count = 0\n",
    "        prev_val_loss = val_loss\n",
    "        val_losses.append(val_loss)\n",
    "    losses.append(L.item())\n",
    "\n",
    "    if epoch == 0 or (epoch % 10 == 0):\n",
    "        print(f\"Epoch: {epoch}, Loss: {np.mean(losses)}, Learning Rate: {alpha}, val_loss: {val_loss}\")"
   ]
  },
  {
   "cell_type": "code",
   "execution_count": 26,
   "id": "874952da-afe6-4fe6-a46f-5114929f0ec9",
   "metadata": {},
   "outputs": [
    {
     "data": {
      "text/plain": [
       "[<matplotlib.lines.Line2D at 0x7bc1c81ba1f0>]"
      ]
     },
     "execution_count": 26,
     "metadata": {},
     "output_type": "execute_result"
    },
    {
     "data": {
      "image/png": "[encoded data removed]",
      "text/plain": [
       "<Figure size 640x480 with 1 Axes>"
      ]
     },
     "metadata": {},
     "output_type": "display_data"
    }
   ],
   "source": [
    "plt.plot(losses)"
   ]
  },
  {
   "cell_type": "code",
   "execution_count": 27,
   "id": "891ea340-da12-41cd-9b99-8b7314d88d7a",
   "metadata": {},
   "outputs": [
    {
     "name": "stdout",
     "output_type": "stream",
     "text": [
      "Test Accuracy: 0.715224358974359\n"
     ]
    }
   ],
   "source": [
    "correct = 0\n",
    "total = 0\n",
    "\n",
    "with torch.no_grad():\n",
    "    for i in range(len(X_test)):\n",
    "        # Forward pass\n",
    "        Z = X_test[i].view(1, -1) @ W + b\n",
    "        predicted_class = torch.argmax(Z, dim=1)\n",
    "\n",
    "        if predicted_class == Y_test[i]:\n",
    "            correct += 1\n",
    "        total += 1\n",
    "accuracy = correct / total\n",
    "print(f\"Test Accuracy: {accuracy}\")\n"
   ]
  },
  {
   "cell_type": "code",
   "execution_count": 28,
   "id": "d89649d8-de27-434a-8f85-8490ba992f85",
   "metadata": {},
   "outputs": [
    {
     "data": {
      "image/png": "[encoded data removed]",
      "text/plain": [
       "<Figure size 640x480 with 1 Axes>"
      ]
     },
     "metadata": {},
     "output_type": "display_data"
    }
   ],
   "source": [
    "plt.plot(range(len(train_losses)), train_losses, label='Training Loss')\n",
    "plt.plot(range(len(val_losses)), val_losses, label='Validation Loss')\n",
    "plt.xlabel('Epoch')\n",
    "plt.ylabel('Loss')\n",
    "plt.title('Training and Validation Loss')\n",
    "plt.legend()\n",
    "plt.show()"
   ]
  },
  {
   "cell_type": "code",
   "execution_count": null,
   "id": "b95affcd-ce3b-439e-9554-66a7ec73071c",
   "metadata": {},
   "outputs": [],
   "source": []
  },
  {
   "cell_type": "code",
   "execution_count": null,
   "id": "1469bf9e-e20b-4086-aa27-50192b922e12",
   "metadata": {},
   "outputs": [],
   "source": []
  },
  {
   "cell_type": "code",
   "execution_count": null,
   "id": "5d420237-a19e-406c-ab54-bbf47e45ad17",
   "metadata": {},
   "outputs": [],
   "source": []
  },
  {
   "cell_type": "code",
   "execution_count": null,
   "id": "9a0401f3-f6a5-4671-8002-3bb241c90d6b",
   "metadata": {},
   "outputs": [],
   "source": []
  },
  {
   "cell_type": "code",
   "execution_count": null,
   "id": "38cf5094-4278-44c9-8582-2b204aa10d2e",
   "metadata": {},
   "outputs": [],
   "source": []
  },
  {
   "cell_type": "code",
   "execution_count": null,
   "id": "d44dd432-c635-4642-a7ab-72a0c5aa9d08",
   "metadata": {},
   "outputs": [],
   "source": []
  },
  {
   "cell_type": "code",
   "execution_count": null,
   "id": "af448b3f-14d2-4a5b-8779-61efc215f80f",
   "metadata": {},
   "outputs": [],
   "source": []
  },
  {
   "cell_type": "code",
   "execution_count": null,
   "id": "5b9e76fe-63f7-4ee7-ae59-cf941152a06e",
   "metadata": {},
   "outputs": [],
   "source": []
  },
  {
   "cell_type": "code",
   "execution_count": null,
   "id": "f57861d9-e844-4c2c-8b49-331f8bb8084b",
   "metadata": {},
   "outputs": [],
   "source": []
  }
 ],
 "metadata": {
  "kernelspec": {
   "display_name": "Python 3 (ipykernel)",
   "language": "python",
   "name": "python3"
  },
  "language_info": {
   "codemirror_mode": {
    "name": "ipython",
    "version": 3
   },
   "file_extension": ".py",
   "mimetype": "text/x-python",
   "name": "python",
   "nbconvert_exporter": "python",
   "pygments_lexer": "ipython3",
   "version": "3.8.18"
  }
 },
 "nbformat": 4,
 "nbformat_minor": 5
}
