{
 "cells": [
  {
   "cell_type": "code",
   "execution_count": 21,
   "id": "2242c8be-f860-489b-987f-d6797d83f695",
   "metadata": {},
   "outputs": [],
   "source": [
    "import torch\n",
    "import torchvision\n",
    "import matplotlib.pyplot as plt"
   ]
  },
  {
   "cell_type": "code",
   "execution_count": 23,
   "id": "2dd34ece-5361-4060-848c-5128feca3279",
   "metadata": {},
   "outputs": [],
   "source": [
    "dataset = torchvision.datasets.MNIST(root='./data', download=True)"
   ]
  },
  {
   "cell_type": "code",
   "execution_count": 3,
   "id": "3af87361-3030-4d59-a950-738e7e473e47",
   "metadata": {},
   "outputs": [
    {
     "data": {
      "text/plain": [
       "Dataset MNIST\n",
       "    Number of datapoints: 60000\n",
       "    Root location: ./data\n",
       "    Split: Train"
      ]
     },
     "execution_count": 3,
     "metadata": {},
     "output_type": "execute_result"
    }
   ],
   "source": [
    "dataset"
   ]
  },
  {
   "cell_type": "code",
   "execution_count": 4,
   "id": "874d8fc2-48e0-4abe-8933-b06bfcb4cfb6",
   "metadata": {},
   "outputs": [],
   "source": [
    "def cmp(s, dt, t):\n",
    "  ex = torch.all(dt == t.grad).item()\n",
    "  app = torch.allclose(dt, t.grad)\n",
    "  maxdiff = (dt - t.grad).abs().max().item()\n",
    "  print(f'{s:15s} | exact: {str(ex):5s} | approximate: {str(app):5s} | maxdiff: {maxdiff}')"
   ]
  },
  {
   "cell_type": "code",
   "execution_count": 5,
   "id": "a88880c5-1eae-4612-9f00-2d6e4ff3a5a1",
   "metadata": {},
   "outputs": [],
   "source": [
    "X = dataset.data\n",
    "Y = dataset.targets"
   ]
  },
  {
   "cell_type": "code",
   "execution_count": 6,
   "id": "4887cfe9-3d41-4552-8912-1b007b110acb",
   "metadata": {},
   "outputs": [
    {
     "data": {
      "text/plain": [
       "<matplotlib.image.AxesImage at 0x78b2182ef7f0>"
      ]
     },
     "execution_count": 6,
     "metadata": {},
     "output_type": "execute_result"
    },
    {
     "data": {
      "image/png": "[encoded data removed]",
      "text/plain": [
       "<Figure size 640x480 with 1 Axes>"
      ]
     },
     "metadata": {},
     "output_type": "display_data"
    }
   ],
   "source": [
    "plt.imshow(X[0])"
   ]
  },
  {
   "cell_type": "code",
   "execution_count": 7,
   "id": "26257ab5-3fbe-40e8-830d-4f60ea65c658",
   "metadata": {},
   "outputs": [],
   "source": [
    "train_size = 50000\n",
    "X_train = X[:train_size] /255\n",
    "Y_train = Y[:train_size]\n",
    "Y_train = Y[:train_size].unsqueeze(1)\n",
    "\n",
    "X_test = X[train_size:] /255\n",
    "Y_test = Y[train_size:]\n",
    "Y_test = Y[train_size:].unsqueeze(1)"
   ]
  },
  {
   "cell_type": "code",
   "execution_count": 8,
   "id": "56682c70-27b8-476b-ac5d-5bc79f892869",
   "metadata": {},
   "outputs": [],
   "source": [
    "torch.manual_seed(42)\n",
    "\n",
    "n_classes = 10\n",
    "alpha = 0.1\n",
    "losses = []\n",
    "\n",
    "input_size = 28 * 28\n",
    "W = torch.randn(input_size, n_classes, requires_grad=True) * 0.05\n",
    "b = torch.randn(1, n_classes, requires_grad=True)"
   ]
  },
  {
   "cell_type": "markdown",
   "id": "4607b3be-7641-49d2-8ae4-461e1ed4fc76",
   "metadata": {},
   "source": [
    "## Understanding softmax"
   ]
  },
  {
   "cell_type": "code",
   "execution_count": 9,
   "id": "8a0db2ac-de37-4a50-bedd-317a14e6c550",
   "metadata": {},
   "outputs": [],
   "source": [
    "import numpy as np\n",
    "def softmax(x):\n",
    "    return np.exp(x) / np.sum(np.exp(x), axis=0)"
   ]
  },
  {
   "cell_type": "code",
   "execution_count": 10,
   "id": "bb9ff905-3fc8-4b76-abd3-c7bb66025fa7",
   "metadata": {},
   "outputs": [
    {
     "name": "stdout",
     "output_type": "stream",
     "text": [
      "Softmax numpy: [0.65900114 0.24243297 0.09856589]\n"
     ]
    }
   ],
   "source": [
    "sx = np.array([2.0, 1.0, 0.1])\n",
    "outputs = softmax(sx)\n",
    "print('Softmax numpy:', outputs)"
   ]
  },
  {
   "cell_type": "code",
   "execution_count": 11,
   "id": "0fbae47d-9ffa-477d-ae4f-ba698f1d330c",
   "metadata": {},
   "outputs": [
    {
     "data": {
      "text/plain": [
       "tensor([0.6590, 0.2424, 0.0986])"
      ]
     },
     "execution_count": 11,
     "metadata": {},
     "output_type": "execute_result"
    }
   ],
   "source": [
    "sx = torch.tensor([2.0, 1.0, 0.1])\n",
    "outputs = torch.softmax(sx, dim=0)\n",
    "outputs"
   ]
  },
  {
   "cell_type": "markdown",
   "id": "cf4f113b-aebf-416a-ba9e-ff169c3d4cad",
   "metadata": {},
   "source": [
    "## Understanding Crossentropy"
   ]
  },
  {
   "cell_type": "code",
   "execution_count": 12,
   "id": "5134652e-77ce-496d-b9f4-cf0b1c65fc8c",
   "metadata": {},
   "outputs": [],
   "source": [
    "def cross_entropy(actual, predicted):\n",
    "    return -np.sum(actual * np.log(predicted))"
   ]
  },
  {
   "cell_type": "code",
   "execution_count": 13,
   "id": "66c99d3e-2d9b-425c-929f-721cc22fff65",
   "metadata": {},
   "outputs": [],
   "source": [
    "cy = np.array([1, 0, 0])"
   ]
  },
  {
   "cell_type": "code",
   "execution_count": 14,
   "id": "b6b09fce-5dfa-4042-9a29-50848336b89b",
   "metadata": {},
   "outputs": [
    {
     "data": {
      "text/plain": [
       "(0.35667494393873245, 2.3025850929940455)"
      ]
     },
     "execution_count": 14,
     "metadata": {},
     "output_type": "execute_result"
    }
   ],
   "source": [
    "cy_pred_good = np.array([0.7, 0.2, 0.1])\n",
    "cy_pred_bad = np.array([0.1, 0.3, 0.6])\n",
    "l1 = cross_entropy(cy, cy_pred_good)\n",
    "l2 = cross_entropy(cy, cy_pred_bad)\n",
    "l1, l2"
   ]
  },
  {
   "cell_type": "code",
   "execution_count": 15,
   "id": "70486307-6606-447a-8a00-50ba3157f18f",
   "metadata": {},
   "outputs": [
    {
     "data": {
      "text/plain": [
       "(torch.Size([784, 10]),\n",
       " torch.Size([1, 10]),\n",
       " torch.Size([50000, 28, 28]),\n",
       " torch.Size([50000, 1]))"
      ]
     },
     "execution_count": 15,
     "metadata": {},
     "output_type": "execute_result"
    }
   ],
   "source": [
    "W.shape, b.shape, X_train.shape, Y_train.shape"
   ]
  },
  {
   "cell_type": "code",
   "execution_count": 16,
   "id": "0daddbdd-82c5-4550-8406-143a9b199fcb",
   "metadata": {},
   "outputs": [],
   "source": [
    "for i in range(1000):\n",
    "    Z = X_train.view(-1, input_size) @ W + b\n",
    "    zmax = Z.max(dim=1, keepdim=True).values\n",
    "    znorm = Z - zmax\n",
    "    \n",
    "    zexp = znorm.exp() \n",
    "    zexp_sum = zexp.sum(dim=1, keepdim=True)\n",
    "    zexp_sum_inv = zexp_sum ** (-1)\n",
    "    probs = zexp * zexp_sum_inv\n",
    "    log_probs = probs.log()\n",
    "    L = -log_probs[torch.arange(len(Y_train)), Y_train.squeeze()].mean()\n",
    "    losses.append(L.item())\n",
    "    \n",
    "    dL_dL = torch.ones_like(L)\n",
    "    dL_dlogprobs = torch.zeros_like(log_probs)\n",
    "    dL_dlogprobs[torch.arange(len(Y_train)), Y_train.squeeze()] = -dL_dL / len(Y_train)\n",
    "    dL_dprobs = dL_dlogprobs * 1 / probs\n",
    "    \n",
    "    dL_dzexp = dL_dprobs * zexp_sum_inv\n",
    "    dL_dzexp_sum_inv = (dL_dprobs * zexp).sum(1, keepdim=True)\n",
    "    dL_dzexp_sum = -1 * dL_dzexp_sum_inv * zexp_sum**(-2)\n",
    "    dL_dzexp += dL_dzexp_sum\n",
    "    dL_dznorm = dL_dzexp * zexp.clone()\n",
    "    \n",
    "    dL_dzmax = -dL_dznorm.sum(1, keepdim=True)\n",
    "    dL_dZ = dL_dznorm\n",
    "    dL_dZ += torch.nn.functional.one_hot(Z.max(dim=1).indices, n_classes) * dL_dzmax\n",
    "    \n",
    "    dL_dW = X_train.view(-1, input_size).T @ dL_dZ\n",
    "    dL_db = dL_dZ.sum(0, keepdim=True)\n",
    "    \n",
    "    for i in [Z, zexp, zexp_sum, zexp_sum_inv, znorm, zmax, probs, log_probs, W, b, L]:\n",
    "        i.retain_grad()\n",
    "    with torch.no_grad():\n",
    "        W -= alpha * dL_dW\n",
    "        b -= alpha * dL_db\n",
    "    if i == 0 or (i % 100 == 0):\n",
    "        print(f\"epoch {i} loss: {L.item()}\")"
   ]
  },
  {
   "cell_type": "code",
   "execution_count": 19,
   "id": "0c53c765-503b-45d3-8fee-4dd8c21caf4a",
   "metadata": {},
   "outputs": [
    {
     "data": {
      "text/plain": [
       "[<matplotlib.lines.Line2D at 0x78b216631580>]"
      ]
     },
     "execution_count": 19,
     "metadata": {},
     "output_type": "execute_result"
    },
    {
     "data": {
      "image/png": "[encoded data removed]",
      "text/plain": [
       "<Figure size 640x480 with 1 Axes>"
      ]
     },
     "metadata": {},
     "output_type": "display_data"
    }
   ],
   "source": [
    "plt.plot(losses)"
   ]
  },
  {
   "cell_type": "code",
   "execution_count": 20,
   "id": "b10ae1c0-01af-4bda-a531-00e732b714d7",
   "metadata": {},
   "outputs": [
    {
     "name": "stdout",
     "output_type": "stream",
     "text": [
      "Accuracy: 91.12%\n"
     ]
    }
   ],
   "source": [
    "Z1 = X_test.view(-1, input_size) @ W + b\n",
    "preds = torch.max(Z1, dim=1).indices\n",
    "preds[:5], Y_test[:5].squeeze()\n",
    "\n",
    "\n",
    "accuracy = (preds == Y_test.squeeze()).float().mean().item() * 100\n",
    "\n",
    "print(f\"Accuracy: {accuracy:.2f}%\")"
   ]
  },
  {
   "cell_type": "code",
   "execution_count": null,
   "id": "54145b65-db7f-46a5-90d3-5220084c9eac",
   "metadata": {},
   "outputs": [],
   "source": []
  }
 ],
 "metadata": {
  "kernelspec": {
   "display_name": "Python 3 (ipykernel)",
   "language": "python",
   "name": "python3"
  },
  "language_info": {
   "codemirror_mode": {
    "name": "ipython",
    "version": 3
   },
   "file_extension": ".py",
   "mimetype": "text/x-python",
   "name": "python",
   "nbconvert_exporter": "python",
   "pygments_lexer": "ipython3",
   "version": "3.8.18"
  }
 },
 "nbformat": 4,
 "nbformat_minor": 5
}
