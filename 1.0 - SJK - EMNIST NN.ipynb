{
 "cells": [
  {
   "cell_type": "code",
   "execution_count": 21,
   "id": "b7749579-54bd-404b-a938-29099bdf8d08",
   "metadata": {},
   "outputs": [],
   "source": [
    "import torch\n",
    "import torchvision \n",
    "import matplotlib.pyplot as plt\n",
    "%matplotlib inline\n",
    "import warnings\n",
    "warnings.filterwarnings('ignore')"
   ]
  },
  {
   "cell_type": "code",
   "execution_count": 22,
   "id": "9c1c2b70-4064-4a94-bf86-252d4de8ca18",
   "metadata": {},
   "outputs": [
    {
     "data": {
      "text/plain": [
       "Dataset EMNIST\n",
       "    Number of datapoints: 124800\n",
       "    Root location: ../data\n",
       "    Split: Train"
      ]
     },
     "execution_count": 22,
     "metadata": {},
     "output_type": "execute_result"
    }
   ],
   "source": [
    "dataset = torchvision.datasets.EMNIST(root=\"../data\", download=True, split=\"letters\")\n",
    "dataset"
   ]
  },
  {
   "cell_type": "code",
   "execution_count": 23,
   "id": "66c7783b-9776-4ce3-b936-cb81eada5200",
   "metadata": {},
   "outputs": [],
   "source": [
    "X = dataset.data\n",
    "Y = dataset.targets"
   ]
  },
  {
   "cell_type": "code",
   "execution_count": 24,
   "id": "81fb52f6-9adf-4081-80e0-e9ffdb3e952e",
   "metadata": {},
   "outputs": [
    {
     "data": {
      "text/plain": [
       "99840.0"
      ]
     },
     "execution_count": 24,
     "metadata": {},
     "output_type": "execute_result"
    }
   ],
   "source": [
    "len(dataset) * 0.8"
   ]
  },
  {
   "cell_type": "code",
   "execution_count": 25,
   "id": "db47e208-3910-44ec-afa9-c14e056de8a9",
   "metadata": {},
   "outputs": [],
   "source": [
    "train_size = 99840\n",
    "Xtrain = X[:train_size] /255\n",
    "Ytrain = Y[:train_size]\n",
    "Ytrain = Y[:train_size].unsqueeze(1)\n",
    "\n",
    "Xtest = X[train_size:] /255\n",
    "Ytest = Y[train_size:]\n",
    "Ytest = Y[train_size:].unsqueeze(1)"
   ]
  },
  {
   "cell_type": "code",
   "execution_count": 26,
   "id": "1842a57f-2cfb-4ab3-83fd-d418acca7edf",
   "metadata": {},
   "outputs": [],
   "source": [
    "ninput = 784\n",
    "nhidden = 256\n",
    "nhidden2 = 256\n",
    "batch_size =64\n",
    "nclasses = len(dataset.classes)"
   ]
  },
  {
   "cell_type": "code",
   "execution_count": 27,
   "id": "8c87e80c-7705-4763-86e7-cacd985b8121",
   "metadata": {},
   "outputs": [],
   "source": [
    "W1 = torch.randn(ninput, nhidden, requires_grad=True) * torch.sqrt(torch.tensor(2.0) / (ninput + nhidden))\n",
    "b1 = torch.randn(1, nhidden, requires_grad=True)\n",
    "W2 = torch.randn(nhidden, nhidden2, requires_grad=True)* torch.sqrt(torch.tensor(2.0) / (nhidden + nhidden2))\n",
    "b2 = torch.randn(1, nhidden2, requires_grad=True)\n",
    "W3 = torch.randn(nhidden2, nclasses, requires_grad=True)* torch.sqrt(torch.tensor(2.0) / (nhidden + nhidden2))\n",
    "b3 = torch.zeros(1, nclasses, requires_grad=True)\n",
    "\n",
    "gamma1 = torch.ones((100,))\n",
    "gamma2 = torch.ones((50,))\n",
    "beta1 = torch.zeros((100,))\n",
    "beta2 = torch.zeros((50,))"
   ]
  },
  {
   "cell_type": "code",
   "execution_count": 28,
   "id": "6e600832-40fd-484b-8440-aa5463fc754d",
   "metadata": {},
   "outputs": [],
   "source": [
    "num_batches = len(Xtrain) // batch_size"
   ]
  },
  {
   "cell_type": "code",
   "execution_count": 29,
   "id": "aefd7139-1cd4-4a36-88ce-03cb691fa09a",
   "metadata": {},
   "outputs": [
    {
     "name": "stdout",
     "output_type": "stream",
     "text": [
      "Epoch 0, Loss: 1.0294515928778893, Validation Loss: 0.6552780931576704\n",
      "Epoch 1, Loss: 0.5327477173640942, Validation Loss: 0.46634813333169006\n",
      "Epoch 2, Loss: 0.4057452173664784, Validation Loss: 0.3961051311630469\n",
      "Epoch 3, Loss: 0.3415578676387668, Validation Loss: 0.3611143586727289\n",
      "Epoch 4, Loss: 0.2999201793844501, Validation Loss: 0.3417207603462232\n",
      "Epoch 5, Loss: 0.2692303562632356, Validation Loss: 0.3302642859518528\n",
      "Epoch 6, Loss: 0.24488787944309223, Validation Loss: 0.3228802860356294\n",
      "Epoch 7, Loss: 0.22466634484246756, Validation Loss: 0.3179855713668542\n",
      "Epoch 8, Loss: 0.20730070137203885, Validation Loss: 0.3149546844836993\n",
      "Epoch 9, Loss: 0.19201221795848164, Validation Loss: 0.313447717940196\n"
     ]
    }
   ],
   "source": [
    "alpha = 0.1\n",
    "losses = []\n",
    "val_losses = []\n",
    "\n",
    "for epoch in range(10):\n",
    "    epoch_loss = 0.0\n",
    "    for i in range(num_batches):\n",
    "        # Create batch\n",
    "        start_idx = i * batch_size\n",
    "        end_idx = (i + 1) * batch_size\n",
    "        X_batch = Xtrain[start_idx:end_idx]\n",
    "        Y_batch = Ytrain[start_idx:end_idx]\n",
    "\n",
    "        # Forward pass\n",
    "        Z1 = X_batch.view(-1, ninput) @ W1 + b1\n",
    "        A1 = torch.tanh(Z1)\n",
    "        Z2 = A1 @ W2 + b2\n",
    "        A2 = torch.tanh(Z2)\n",
    "        Z3 = A2 @ W3 + b3\n",
    "        zmax = Z3.max(dim=1, keepdim=True).values\n",
    "        znorm = Z3 - zmax\n",
    "        zexp = znorm.exp()\n",
    "        zexp_sum = zexp.sum(dim=1, keepdim=True)\n",
    "        zexp_sum_inv = zexp_sum ** (-1)\n",
    "        probs = zexp * zexp_sum_inv\n",
    "        log_probs = probs.log()\n",
    "        L = -log_probs[torch.arange(len(Y_batch)), Y_batch.squeeze()].mean()\n",
    "        epoch_loss += L.item()\n",
    "\n",
    "        # Backward pass\n",
    "        dL_dL = torch.ones_like(L)\n",
    "        dL_dlogprobs = torch.zeros_like(log_probs)\n",
    "        dL_dlogprobs[torch.arange(len(Y_batch)), Y_batch.squeeze()] = -dL_dL / len(Y_batch)\n",
    "        dL_dprobs = dL_dlogprobs * 1 / probs\n",
    "        dL_dzexp = dL_dprobs * zexp_sum_inv\n",
    "        dL_dzexp_sum_inv = (dL_dprobs * zexp).sum(1, keepdim=True)\n",
    "        dL_dzexp_sum = -1 * dL_dzexp_sum_inv * zexp_sum**(-2)\n",
    "        dL_dzexp += dL_dzexp_sum\n",
    "        dL_dznorm = dL_dzexp * zexp.clone()\n",
    "        dL_dzmax = -dL_dznorm.sum(1, keepdim=True)\n",
    "        dL_dZ = dL_dznorm\n",
    "        dL_dZ += torch.nn.functional.one_hot(Z3.max(dim=1).indices, nclasses) * dL_dzmax\n",
    "        dL_dW3 = A2.T @ dL_dZ\n",
    "        dL_db3 = dL_dZ.sum(0, keepdim=True)\n",
    "        dL_dA2 = dL_dZ @ W3.T\n",
    "        dL_dZ2 = dL_dA2 * (1 - A2**2)\n",
    "        dL_dW2 = A1.T @ dL_dZ2\n",
    "        dL_db2 = dL_dZ2.sum(0, keepdim=True)\n",
    "        dL_dA1 = dL_dZ2 @ W2.T\n",
    "        dL_dZ1 = dL_dA1 * (1 - A1**2)\n",
    "        dL_dW1 = X_batch.view(-1, ninput).T @ dL_dZ1\n",
    "        dL_db1 = dL_dZ1.sum(0, keepdim=True)\n",
    "\n",
    "        with torch.no_grad():\n",
    "            W1 -= alpha * dL_dW1\n",
    "            b1 -= alpha * dL_db1\n",
    "            W2 -= alpha * dL_dW2\n",
    "            b2 -= alpha * dL_db2\n",
    "            W3 -= alpha * dL_dW3\n",
    "            b3 -= alpha * dL_db3\n",
    "\n",
    "    # Calculate validation loss\n",
    "    val_loss = 0.0\n",
    "    with torch.no_grad():\n",
    "        for j in range(len(Xtest) // batch_size):\n",
    "            start_idx = j * batch_size\n",
    "            end_idx = (j + 1) * batch_size\n",
    "            X_val = Xtest[start_idx:end_idx]\n",
    "            Y_val = Ytest[start_idx:end_idx]\n",
    "\n",
    "            Z1_val = X_val.view(-1, ninput) @ W1 + b1\n",
    "            A1_val = torch.tanh(Z1_val)\n",
    "            Z2_val = A1_val @ W2 + b2\n",
    "            A2_val = torch.tanh(Z2_val)\n",
    "            Z3_val = A2_val @ W3 + b3\n",
    "            val_loss += -torch.nn.functional.log_softmax(Z3_val, dim=1)[torch.arange(len(Y_val)), Y_val.squeeze()].mean().item()\n",
    "    val_loss /= (len(Xtest) // batch_size)\n",
    "\n",
    "    losses.append(epoch_loss / num_batches)\n",
    "    val_losses.append(val_loss)\n",
    "\n",
    "    print(f\"Epoch {epoch}, Loss: {losses[-1]}, Validation Loss: {val_losses[-1]}\")"
   ]
  },
  {
   "cell_type": "code",
   "execution_count": 30,
   "id": "900d43ec-1f95-49b6-95bb-d979db9127db",
   "metadata": {},
   "outputs": [],
   "source": [
    "# def compare_grad(s, dX, X):\n",
    "#     exact = torch.all(dX == X.grad).item()\n",
    "#     close = torch.allclose(dX, X.grad)\n",
    "#     maxdiff = (dX - X.grad).abs().max().item()\n",
    "#     print(f\"{s:15s} | exact: {str(exact):5s} | approximate:{str(close):5s} | maxdiff: {maxdiff}\")"
   ]
  },
  {
   "cell_type": "code",
   "execution_count": 31,
   "id": "d8517e01-6a37-4305-9c4c-4a07437a7c37",
   "metadata": {},
   "outputs": [],
   "source": [
    "# compare_grad('logprobs', dL_dlogprobs, log_probs)\n",
    "# compare_grad('probs', dL_dprobs, probs)\n",
    "# compare_grad('zexp', dL_dzexp, zexp)\n",
    "# compare_grad('zexp_sum_inv', dL_dzexp_sum_inv, zexp_sum_inv)\n",
    "# compare_grad('zexp_sum', dL_dzexp_sum, zexp_sum)\n",
    "# compare_grad('znorm', dL_dznorm, znorm)\n",
    "# compare_grad('zmax', dL_dzmax, zmax)\n",
    "# # compare_grad('Z3', dL_dZ3, Z3)\n",
    "# # compare_grad('W3', dL_dW3, W3)\n",
    "# # compare_grad('b3', dL_db3, b3)\n",
    "# compare_grad('Z2', dL_dZ2, Z2)\n",
    "# compare_grad('W2', dL_dW2, W2)\n",
    "# compare_grad('b2', dL_db2, b2)\n",
    "# compare_grad('Z1', dL_dZ1, Z1)\n",
    "# compare_grad('W1', dL_dW1, W1)\n",
    "# compare_grad('b1', dL_db1, b1)"
   ]
  },
  {
   "cell_type": "code",
   "execution_count": 32,
   "id": "dc0ec3a4-42b2-4071-9334-f9361bbd7778",
   "metadata": {},
   "outputs": [
    {
     "data": {
      "image/png": "[encoded data removed]",
      "text/plain": [
       "<Figure size 640x480 with 1 Axes>"
      ]
     },
     "metadata": {},
     "output_type": "display_data"
    }
   ],
   "source": [
    "plt.plot(losses, label='Training Loss')\n",
    "plt.plot(val_losses, label='Validation Loss')\n",
    "plt.legend()\n",
    "plt.title('Training and Validation Losses')\n",
    "plt.xlabel('Epoch')\n",
    "plt.ylabel('Loss')\n",
    "plt.show()"
   ]
  },
  {
   "cell_type": "code",
   "execution_count": 33,
   "id": "3dcbe7f6-8f51-4162-9120-0c0a0515f363",
   "metadata": {},
   "outputs": [
    {
     "name": "stdout",
     "output_type": "stream",
     "text": [
      "Test Accuracy: 0.9007211538461538\n"
     ]
    }
   ],
   "source": [
    "correct = 0\n",
    "total = 0\n",
    "\n",
    "with torch.no_grad():\n",
    "    for i in range(len(Xtest)):\n",
    "        Z1 = Xtest[i].view(1, -1) @ W1 + b1\n",
    "        A1 = torch.tanh(Z1)\n",
    "        Z2 = A1 @ W2 + b2\n",
    "        A2 = torch.tanh(Z2)\n",
    "        Z3 = A2 @ W3 + b3\n",
    "        predicted_class = torch.argmax(Z3, dim=1)\n",
    "\n",
    "        if predicted_class == Ytest[i]:\n",
    "            correct += 1\n",
    "        total += 1\n",
    "accuracy = correct / total\n",
    "print(f\"Test Accuracy: {accuracy}\")\n"
   ]
  },
  {
   "cell_type": "code",
   "execution_count": null,
   "id": "c4276a81-0903-456f-ba40-fa23adb69205",
   "metadata": {},
   "outputs": [],
   "source": []
  },
  {
   "cell_type": "code",
   "execution_count": null,
   "id": "005f8e00-353c-42e1-b0dd-02b0acde0551",
   "metadata": {},
   "outputs": [],
   "source": []
  }
 ],
 "metadata": {
  "kernelspec": {
   "display_name": "Python 3 (ipykernel)",
   "language": "python",
   "name": "python3"
  },
  "language_info": {
   "codemirror_mode": {
    "name": "ipython",
    "version": 3
   },
   "file_extension": ".py",
   "mimetype": "text/x-python",
   "name": "python",
   "nbconvert_exporter": "python",
   "pygments_lexer": "ipython3",
   "version": "3.8.18"
  }
 },
 "nbformat": 4,
 "nbformat_minor": 5
}
