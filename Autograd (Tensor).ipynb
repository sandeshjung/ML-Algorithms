{
 "cells": [
  {
   "cell_type": "code",
   "execution_count": 23,
   "id": "46207f17-7876-4270-b53b-455ce580b9c3",
   "metadata": {},
   "outputs": [],
   "source": [
    "from graphviz import Digraph\n",
    "import torch\n",
    "def trace(root):\n",
    "\n",
    "    nodes, edges = set(), set()\n",
    "    def build(v):\n",
    "        if v not in nodes:\n",
    "            nodes.add(v)\n",
    "            for child in v._prev:\n",
    "                edges.add((child, v))\n",
    "                build(child)\n",
    "    build(root)\n",
    "    return nodes, edges\n",
    "\n",
    "def draw_dot(root):\n",
    "    dot = Digraph(format='svg', graph_attr={'rankdir': 'LR'})\n",
    "\n",
    "    nodes, edges = trace(root)\n",
    "    for n in nodes:\n",
    "        uid = str(id(n))\n",
    "\n",
    "        dot.node(name = uid, label=\"{ %s | %s | grad %s}\" % (n.label, n.data.shape, str(n.grad.detach().cpu().numpy())), shape='record')\n",
    "\n",
    "        if n._op:\n",
    "            dot.node(name = uid + n._op, label=n._op)\n",
    "            dot.edge(uid + n._op, uid)\n",
    "\n",
    "    for n1, n2 in edges:\n",
    "        dot.edge(str(id(n1)), str(id(n2)) + n2._op)\n",
    "\n",
    "    return dot"
   ]
  },
  {
   "cell_type": "code",
   "execution_count": 24,
   "id": "0db0a075-f211-491e-8e47-813ebcda3eae",
   "metadata": {},
   "outputs": [],
   "source": [
    "def unbroadcast(target, grad):\n",
    "    while grad.dim() > target.dim():\n",
    "        grad = grad.sum(dim=0)\n",
    "    for i, size in enumerate(target.size()):\n",
    "        if size == 1:\n",
    "            grad = grad.sum(dim=i, keepdim=True)\n",
    "    return grad"
   ]
  },
  {
   "cell_type": "code",
   "execution_count": 25,
   "id": "9ec63edb-0477-4d4c-9c2c-7cb6a2699d51",
   "metadata": {},
   "outputs": [],
   "source": [
    "import torch\n",
    "\n",
    "class Value:\n",
    "    def __init__(self, value, _children=(), label=\"\", _op=\"\"):\n",
    "        self.data = value\n",
    "        self._prev = _children\n",
    "        self._backward = lambda: None\n",
    "        self.label = label\n",
    "        self._op = _op\n",
    "        self.grad = torch.zeros_like(value)\n",
    "\n",
    "    def __add__(self, other):\n",
    "        if isinstance(other, Value):\n",
    "            out = Value(self.data + other.data, _children=(self, other), _op=\"+\")\n",
    "            def _backward():\n",
    "                self.grad += unbroadcast(self.data, out.grad)\n",
    "                other.grad += unbroadcast(other.data, out.grad)\n",
    "            out._backward = _backward\n",
    "            return out\n",
    "        elif isinstance(other, torch.Tensor):\n",
    "            out = Value(self.data + other, _children=(self,), _op=\"+\")\n",
    "            def _backward():\n",
    "                self.grad += unbroadcast(self.data, out.grad)\n",
    "            out._backward = _backward\n",
    "            return out\n",
    "        else:\n",
    "            raise TypeError(\"Unsupported operand type(s) for +: 'Value' and '{}'\".format(type(other)))\n",
    "\n",
    "    def __matmul__(self, other):\n",
    "        if isinstance(other, Value):\n",
    "            out = Value(self.data @ other.data, _children=(self, other), _op=\"@\")\n",
    "            def _backward():\n",
    "                self.grad += unbroadcast(self.data, out.grad @ other.data.T)\n",
    "                other.grad += unbroadcast(other.data, self.data.T @ out.grad)\n",
    "            out._backward = _backward\n",
    "            return out\n",
    "        elif isinstance(other, torch.Tensor):\n",
    "            out = Value(self.data @ other, _children=(self,), _op=\"@\")\n",
    "            def _backward():\n",
    "                self.grad += unbroadcast(self.data, out.grad @ other.T)\n",
    "            out._backward = _backward\n",
    "            return out\n",
    "        else:\n",
    "            raise TypeError(\"Unsupported operand type(s) for @: 'Value' and '{}'\".format(type(other)))\n",
    "\n",
    "    def backward(self):\n",
    "        # Initialize the gradient of the output value\n",
    "        self.grad = torch.ones_like(self.data)\n",
    "        # Propagate the gradients backward through the computation graph\n",
    "        stack = [self]\n",
    "        while stack:\n",
    "            node = stack.pop()\n",
    "            node._backward()\n",
    "            stack.extend(node._prev)\n",
    "\n",
    "    def __repr__(self):\n",
    "        return str(f'Value: {self.data}')\n",
    "\n",
    "    def __str__(self):\n",
    "        return str(f'Value :{self.data}')\n"
   ]
  },
  {
   "cell_type": "code",
   "execution_count": 26,
   "id": "4804cf9f-1a4a-44b7-a9ee-d6be71e9ea9f",
   "metadata": {},
   "outputs": [],
   "source": [
    "# a = torch.tensor([[1, 2],[3,4]]).double()\n",
    "# b = torch.tensor([[10, 20], [30, 40]]).double()\n",
    "# w = torch.tensor([[2,4],[5,1]]).double()"
   ]
  },
  {
   "cell_type": "code",
   "execution_count": 27,
   "id": "e918f549-da7c-46c3-89a7-f0d538343827",
   "metadata": {},
   "outputs": [],
   "source": [
    "# a = torch.tensor([[10, 12],[23,14]]).double()\n",
    "# b = torch.tensor([[10, 20], [30, 40]]).double()\n",
    "# w = torch.tensor([[21,4],[5,12]]).double()"
   ]
  },
  {
   "cell_type": "code",
   "execution_count": 28,
   "id": "8d23f509-8054-4f52-8be7-174dbb9e5d40",
   "metadata": {},
   "outputs": [],
   "source": [
    "w = torch.randn(1, 1, requires_grad=True)\n",
    "b = torch.randn(1, 1, requires_grad=True)\n",
    "a = torch.randn(50, 1, requires_grad=True)"
   ]
  },
  {
   "cell_type": "code",
   "execution_count": 29,
   "id": "2869435c-6476-4b75-806b-94144a7ad24a",
   "metadata": {},
   "outputs": [],
   "source": [
    "w1 = w.clone().detach().requires_grad_(True)\n",
    "b1 = b.clone().detach().requires_grad_(True)\n",
    "a1 = a.clone().detach().requires_grad_(True)"
   ]
  },
  {
   "cell_type": "code",
   "execution_count": 70,
   "id": "74fd31d6-e520-4fbe-98bd-0533b79cbc8e",
   "metadata": {},
   "outputs": [],
   "source": [
    "w = torch.randn(1, 1, requires_grad=True)\n",
    "b = torch.randn(1, 1, requires_grad=True)\n",
    "a = torch.randn(2, 1, requires_grad=True)\n",
    "interm = a @ w\n",
    "z = interm + b"
   ]
  },
  {
   "cell_type": "code",
   "execution_count": 73,
   "id": "d23b418c-25f0-4076-a242-2e8b99ce9189",
   "metadata": {},
   "outputs": [],
   "source": [
    "z.grad = torch.ones_like(z.data)"
   ]
  },
  {
   "cell_type": "code",
   "execution_count": 74,
   "id": "5049b657-2a4b-4bd7-8d2b-a0fc5991651e",
   "metadata": {},
   "outputs": [
    {
     "ename": "AttributeError",
     "evalue": "'Tensor' object has no attribute '_backward'",
     "output_type": "error",
     "traceback": [
      "\u001b[0;31m---------------------------------------------------------------------------\u001b[0m",
      "\u001b[0;31mAttributeError\u001b[0m                            Traceback (most recent call last)",
      "Cell \u001b[0;32mIn[74], line 1\u001b[0m\n\u001b[0;32m----> 1\u001b[0m \u001b[43mz\u001b[49m\u001b[38;5;241;43m.\u001b[39;49m\u001b[43m_backward\u001b[49m()\n",
      "\u001b[0;31mAttributeError\u001b[0m: 'Tensor' object has no attribute '_backward'"
     ]
    }
   ],
   "source": [
    "z._backward()"
   ]
  },
  {
   "cell_type": "code",
   "execution_count": null,
   "id": "af61fdaf-23d0-4e5a-826f-d061b237441d",
   "metadata": {},
   "outputs": [],
   "source": []
  },
  {
   "cell_type": "code",
   "execution_count": null,
   "id": "13bbebab-02d1-411a-bf06-54d6c13ad788",
   "metadata": {},
   "outputs": [],
   "source": []
  },
  {
   "cell_type": "code",
   "execution_count": 68,
   "id": "604e7a95-3da8-49bd-9467-b1a5133902ee",
   "metadata": {},
   "outputs": [
    {
     "data": {
      "text/plain": [
       "(tensor([[0.3075]], requires_grad=True),\n",
       " tensor([[0.3075]], requires_grad=True))"
      ]
     },
     "execution_count": 68,
     "metadata": {},
     "output_type": "execute_result"
    }
   ],
   "source": [
    "w, w1"
   ]
  },
  {
   "cell_type": "code",
   "execution_count": 31,
   "id": "bf0d6cf2-962b-4c1b-9631-fc5eff0700eb",
   "metadata": {},
   "outputs": [],
   "source": [
    "# a = torch.tensor([[1, 2],[3,4]]).double()\n",
    "# b = torch.tensor([10, 20]).double()\n",
    "# w = torch.tensor([[2,4],[5,1]]).double()"
   ]
  },
  {
   "cell_type": "code",
   "execution_count": 107,
   "id": "eec23b84-2886-46aa-9a83-b289a6e9e897",
   "metadata": {},
   "outputs": [],
   "source": [
    "temp1 = torch.tensor([[3]]).double().requires_grad_(True)"
   ]
  },
  {
   "cell_type": "code",
   "execution_count": 108,
   "id": "b3ae4abc-e8a3-4bee-bcec-f10518e07341",
   "metadata": {},
   "outputs": [],
   "source": [
    "temp2 = torch.tensor([[10],[20]]).double().requires_grad_(True)"
   ]
  },
  {
   "cell_type": "code",
   "execution_count": 109,
   "id": "09431c53-11c9-44e3-9d61-7e6da4cbbdb2",
   "metadata": {},
   "outputs": [],
   "source": [
    "temp3 = torch.tensor([[1,2]]).double().requires_grad_(True)"
   ]
  },
  {
   "cell_type": "code",
   "execution_count": 110,
   "id": "6b270180-fae3-424a-a769-b76f5f038a40",
   "metadata": {},
   "outputs": [],
   "source": [
    "temp1_ = Value(temp1)\n",
    "temp2_ = Value(temp2)\n",
    "temp3_ = Value(temp3)\n"
   ]
  },
  {
   "cell_type": "code",
   "execution_count": null,
   "id": "0edb870e-1d34-4cbd-a764-eeeeee6f393e",
   "metadata": {},
   "outputs": [],
   "source": []
  },
  {
   "cell_type": "code",
   "execution_count": 111,
   "id": "69d8fb3f-3ced-4e0d-a061-e280647c3f16",
   "metadata": {},
   "outputs": [],
   "source": [
    "temp4_ = temp2_ @ temp3_"
   ]
  },
  {
   "cell_type": "code",
   "execution_count": 122,
   "id": "21c71f27-b3b1-47b4-9491-14f640059341",
   "metadata": {},
   "outputs": [],
   "source": [
    "temp_ = temp4_ + temp1_"
   ]
  },
  {
   "cell_type": "code",
   "execution_count": 123,
   "id": "5b55cac9-20fa-40cc-9183-3a7f093e42ff",
   "metadata": {},
   "outputs": [],
   "source": [
    "temp_.grad = torch.ones_like(temp_.data)"
   ]
  },
  {
   "cell_type": "code",
   "execution_count": 124,
   "id": "2bbac567-5e12-4044-a5de-afdee922ed30",
   "metadata": {},
   "outputs": [],
   "source": [
    "temp_._backward()"
   ]
  },
  {
   "cell_type": "code",
   "execution_count": 127,
   "id": "906234fe-3aa8-4aa5-ba90-c5a78aee7862",
   "metadata": {},
   "outputs": [
    {
     "data": {
      "text/plain": [
       "tensor([[2., 2.],\n",
       "        [2., 2.]], dtype=torch.float64)"
      ]
     },
     "execution_count": 127,
     "metadata": {},
     "output_type": "execute_result"
    }
   ],
   "source": [
    "temp4_.grad"
   ]
  },
  {
   "cell_type": "code",
   "execution_count": 126,
   "id": "16ed76dd-e452-4460-ae67-056594ca742d",
   "metadata": {},
   "outputs": [
    {
     "data": {
      "text/plain": [
       "tensor([[8.]], dtype=torch.float64)"
      ]
     },
     "execution_count": 126,
     "metadata": {},
     "output_type": "execute_result"
    }
   ],
   "source": [
    "temp1_.grad"
   ]
  },
  {
   "cell_type": "code",
   "execution_count": 143,
   "id": "44f578d5-b26b-4c03-afc6-2e25908d7a51",
   "metadata": {},
   "outputs": [
    {
     "data": {
      "text/plain": [
       "tensor([[60., 60.]], dtype=torch.float64, grad_fn=<AddBackward0>)"
      ]
     },
     "execution_count": 143,
     "metadata": {},
     "output_type": "execute_result"
    }
   ],
   "source": [
    "temp3_.grad"
   ]
  },
  {
   "cell_type": "code",
   "execution_count": 129,
   "id": "bd2e09e0-610b-4769-8bbb-574b028dcd8a",
   "metadata": {},
   "outputs": [],
   "source": [
    "temp4_._backward()"
   ]
  },
  {
   "cell_type": "code",
   "execution_count": 130,
   "id": "5072e3d5-60c1-4c86-8cb8-8d74897fb453",
   "metadata": {},
   "outputs": [
    {
     "data": {
      "text/plain": [
       "tensor([[6.],\n",
       "        [6.]], dtype=torch.float64, grad_fn=<AddBackward0>)"
      ]
     },
     "execution_count": 130,
     "metadata": {},
     "output_type": "execute_result"
    }
   ],
   "source": [
    "temp2_.grad"
   ]
  },
  {
   "cell_type": "code",
   "execution_count": 131,
   "id": "af914d3c-b5ef-4194-982f-008b8483c0d5",
   "metadata": {},
   "outputs": [
    {
     "data": {
      "text/plain": [
       "tensor([[8.]], dtype=torch.float64)"
      ]
     },
     "execution_count": 131,
     "metadata": {},
     "output_type": "execute_result"
    }
   ],
   "source": [
    "temp1_.grad"
   ]
  },
  {
   "cell_type": "code",
   "execution_count": 42,
   "id": "3a730aa4-6e3d-4be8-b616-cd87269629a4",
   "metadata": {},
   "outputs": [],
   "source": [
    "# loss = temp.sum()"
   ]
  },
  {
   "cell_type": "code",
   "execution_count": 133,
   "id": "c9001807-4fee-4715-b61d-fd65fbfc99f6",
   "metadata": {},
   "outputs": [],
   "source": [
    "temp4 = temp2 @ temp3"
   ]
  },
  {
   "cell_type": "code",
   "execution_count": 136,
   "id": "05db2e4b-c316-4aca-83e0-77b5cdfb9779",
   "metadata": {},
   "outputs": [],
   "source": [
    "temp = temp4 + temp1"
   ]
  },
  {
   "cell_type": "code",
   "execution_count": 137,
   "id": "b6d3c418-78f3-4683-8f8b-eace79e18cb9",
   "metadata": {},
   "outputs": [],
   "source": [
    "loss = temp.sum()"
   ]
  },
  {
   "cell_type": "code",
   "execution_count": 138,
   "id": "302dab04-11b7-4cbf-ba41-77f1e953d523",
   "metadata": {},
   "outputs": [],
   "source": [
    "loss.backward()"
   ]
  },
  {
   "cell_type": "code",
   "execution_count": 141,
   "id": "e51edbe4-c36f-4c91-9e38-7f5df69bf3bb",
   "metadata": {},
   "outputs": [
    {
     "name": "stderr",
     "output_type": "stream",
     "text": [
      "/tmp/ipykernel_7451/1087064031.py:1: UserWarning: The .grad attribute of a Tensor that is not a leaf Tensor is being accessed. Its .grad attribute won't be populated during autograd.backward(). If you indeed want the .grad field to be populated for a non-leaf Tensor, use .retain_grad() on the non-leaf Tensor. If you access the non-leaf Tensor by mistake, make sure you access the leaf Tensor instead. See github.com/pytorch/pytorch/pull/30531 for more informations. (Triggered internally at aten/src/ATen/core/TensorBody.h:489.)\n",
      "  temp4.grad\n"
     ]
    }
   ],
   "source": [
    "temp4.grad"
   ]
  },
  {
   "cell_type": "code",
   "execution_count": 142,
   "id": "e3a9d778-1dc7-4176-bf01-1f7d25b178c4",
   "metadata": {},
   "outputs": [
    {
     "name": "stdout",
     "output_type": "stream",
     "text": [
      "tensor([[4.]], dtype=torch.float64) tensor([[3.],\n",
      "        [3.]], dtype=torch.float64) tensor([[30., 30.]], dtype=torch.float64)\n"
     ]
    }
   ],
   "source": [
    "print(temp1.grad,temp2.grad,temp3.grad)\n"
   ]
  },
  {
   "cell_type": "code",
   "execution_count": null,
   "id": "a78d08c4-badd-4a4a-b86e-5255c9e46c76",
   "metadata": {},
   "outputs": [],
   "source": []
  },
  {
   "cell_type": "code",
   "execution_count": null,
   "id": "36e4e30c-2666-43c0-baba-fcfaa38bd798",
   "metadata": {},
   "outputs": [],
   "source": []
  },
  {
   "cell_type": "code",
   "execution_count": null,
   "id": "0f0dda4c-41b1-44c1-abab-5e316c29e4ed",
   "metadata": {},
   "outputs": [],
   "source": []
  },
  {
   "cell_type": "code",
   "execution_count": 43,
   "id": "6f95aef4-fef5-4aa8-95c9-e6958388f6e2",
   "metadata": {},
   "outputs": [],
   "source": [
    "# loss.backward()"
   ]
  },
  {
   "cell_type": "code",
   "execution_count": 44,
   "id": "906e2cdc-1a19-4630-834c-132546f0ee6f",
   "metadata": {},
   "outputs": [
    {
     "data": {
      "text/plain": [
       "tensor([[3.],\n",
       "        [3.]], dtype=torch.float64, grad_fn=<AddBackward0>)"
      ]
     },
     "execution_count": 44,
     "metadata": {},
     "output_type": "execute_result"
    }
   ],
   "source": [
    "temp2.grad"
   ]
  },
  {
   "cell_type": "code",
   "execution_count": 45,
   "id": "d41196cf-1893-4a42-b0b0-fcf26fcb43df",
   "metadata": {},
   "outputs": [
    {
     "data": {
      "text/plain": [
       "tensor([[0.]], dtype=torch.float64)"
      ]
     },
     "execution_count": 45,
     "metadata": {},
     "output_type": "execute_result"
    }
   ],
   "source": [
    "temp1.grad\n"
   ]
  },
  {
   "cell_type": "code",
   "execution_count": 46,
   "id": "7ffb3c21-6ee2-40ba-bdf2-e75c33503ba4",
   "metadata": {},
   "outputs": [
    {
     "data": {
      "text/plain": [
       "tensor([[30., 30.]], dtype=torch.float64, grad_fn=<AddBackward0>)"
      ]
     },
     "execution_count": 46,
     "metadata": {},
     "output_type": "execute_result"
    }
   ],
   "source": [
    "temp3.grad\n"
   ]
  },
  {
   "cell_type": "code",
   "execution_count": null,
   "id": "f2d65c30-6249-451e-bcc4-bed1d1fe585f",
   "metadata": {},
   "outputs": [],
   "source": []
  },
  {
   "cell_type": "code",
   "execution_count": null,
   "id": "4f53ccb2-da8e-46e8-ba8a-08cbacd3bf41",
   "metadata": {},
   "outputs": [],
   "source": []
  },
  {
   "cell_type": "code",
   "execution_count": null,
   "id": "2db92242-0f93-40d2-baaa-6af2a0c79465",
   "metadata": {},
   "outputs": [],
   "source": []
  },
  {
   "cell_type": "code",
   "execution_count": null,
   "id": "56fdb2e4-544d-4478-8045-ba415d5119b2",
   "metadata": {},
   "outputs": [],
   "source": []
  },
  {
   "cell_type": "code",
   "execution_count": null,
   "id": "44abd245-5eeb-4079-810e-9174d6f2a144",
   "metadata": {},
   "outputs": [],
   "source": []
  },
  {
   "cell_type": "code",
   "execution_count": null,
   "id": "38e1ead2-ee0e-465d-aa07-9998c9ef7c9f",
   "metadata": {},
   "outputs": [],
   "source": []
  },
  {
   "cell_type": "code",
   "execution_count": 47,
   "id": "8a70c5dc-43c6-405d-b35a-69f72ab37187",
   "metadata": {},
   "outputs": [
    {
     "data": {
      "text/plain": [
       "tensor([[3.],\n",
       "        [3.]], dtype=torch.float64, grad_fn=<AddBackward0>)"
      ]
     },
     "execution_count": 47,
     "metadata": {},
     "output_type": "execute_result"
    }
   ],
   "source": [
    "temp2.grad"
   ]
  },
  {
   "cell_type": "code",
   "execution_count": 48,
   "id": "89290841-47aa-46d7-8b2e-2a2f1ceec08f",
   "metadata": {},
   "outputs": [
    {
     "data": {
      "text/plain": [
       "tensor([[0.]], dtype=torch.float64)"
      ]
     },
     "execution_count": 48,
     "metadata": {},
     "output_type": "execute_result"
    }
   ],
   "source": [
    "temp1.grad"
   ]
  },
  {
   "cell_type": "code",
   "execution_count": 49,
   "id": "17dad560-9eec-4429-bb2b-97059385bba4",
   "metadata": {},
   "outputs": [],
   "source": [
    "temp.grad = torch.ones_like(temp.data)"
   ]
  },
  {
   "cell_type": "code",
   "execution_count": 50,
   "id": "c0e7481b-8afc-47aa-80d5-994f17555539",
   "metadata": {},
   "outputs": [],
   "source": [
    "temp._backward()"
   ]
  },
  {
   "cell_type": "code",
   "execution_count": null,
   "id": "6d1d6f58-7297-4fcf-9cbe-92ac854407f8",
   "metadata": {},
   "outputs": [],
   "source": []
  },
  {
   "cell_type": "code",
   "execution_count": null,
   "id": "1218d6ce-60bd-4781-b616-d7cc2d65521c",
   "metadata": {},
   "outputs": [],
   "source": []
  },
  {
   "cell_type": "code",
   "execution_count": null,
   "id": "a36bfe12-2d6e-45ea-83e8-03294b11faec",
   "metadata": {},
   "outputs": [],
   "source": []
  },
  {
   "cell_type": "code",
   "execution_count": null,
   "id": "33df586b-f745-4a5b-ad7e-5b9312af5676",
   "metadata": {},
   "outputs": [],
   "source": []
  },
  {
   "cell_type": "code",
   "execution_count": null,
   "id": "16820554-bae4-421a-9374-89e5a7d4860d",
   "metadata": {},
   "outputs": [],
   "source": []
  },
  {
   "cell_type": "code",
   "execution_count": 75,
   "id": "34444297-4690-489b-a121-d4833f5e4542",
   "metadata": {},
   "outputs": [],
   "source": [
    "a = Value(a)\n",
    "a.label = 'a'\n",
    "b = Value(b)\n",
    "b.label = 'b'\n",
    "w = Value(w)\n",
    "w.label = 'w'"
   ]
  },
  {
   "cell_type": "code",
   "execution_count": 76,
   "id": "017d3092-bd89-4d1e-86e5-752fba66ce01",
   "metadata": {},
   "outputs": [],
   "source": [
    "interm = a @ w\n",
    "interm.label = 'interm'\n",
    "z = interm + b\n",
    "z.label = 'z'"
   ]
  },
  {
   "cell_type": "code",
   "execution_count": 53,
   "id": "cabed0fa-642f-4b4b-ab52-8d7095210c00",
   "metadata": {
    "scrolled": true
   },
   "outputs": [],
   "source": [
    "# z"
   ]
  },
  {
   "cell_type": "code",
   "execution_count": 54,
   "id": "7f2ef8a5-3d0a-4af7-945a-a08dc8cfdc77",
   "metadata": {},
   "outputs": [],
   "source": [
    "# temp = (torch.tensor([[1, 2],[3,4]]) @ torch.tensor([[2,4],[5,1]])) + torch.tensor([[10, 20], [30, 40]])"
   ]
  },
  {
   "cell_type": "code",
   "execution_count": 80,
   "id": "14f36969-3a8e-4153-9205-fb8e825b2456",
   "metadata": {},
   "outputs": [
    {
     "data": {
      "image/svg+xml": [
       "<?xml version=\"1.0\" encoding=\"UTF-8\" standalone=\"no\"?>\n",
       "<!DOCTYPE svg PUBLIC \"-//W3C//DTD SVG 1.1//EN\"\n",
       " \"http://www.w3.org/Graphics/SVG/1.1/DTD/svg11.dtd\">\n",
       "<!-- Generated by graphviz version 2.43.0 (0)\n",
       " -->\n",
       "<!-- Title: %3 Pages: 1 -->\n",
       "<svg width=\"1289pt\" height=\"128pt\"\n",
       " viewBox=\"0.00 0.00 1289.00 128.00\" xmlns=\"http://www.w3.org/2000/svg\" xmlns:xlink=\"http://www.w3.org/1999/xlink\">\n",
       "<g id=\"graph0\" class=\"graph\" transform=\"scale(1 1) rotate(0) translate(4 124)\">\n",
       "<title>%3</title>\n",
       "<polygon fill=\"white\" stroke=\"transparent\" points=\"-4,4 -4,-124 1285,-124 1285,4 -4,4\"/>\n",
       "<!-- 139304571159072 -->\n",
       "<g id=\"node1\" class=\"node\">\n",
       "<title>139304571159072</title>\n",
       "<polygon fill=\"none\" stroke=\"black\" points=\"57,-83.5 57,-119.5 375,-119.5 375,-83.5 57,-83.5\"/>\n",
       "<text text-anchor=\"middle\" x=\"71.5\" y=\"-97.8\" font-family=\"Times,serif\" font-size=\"14.00\">w</text>\n",
       "<polyline fill=\"none\" stroke=\"black\" points=\"86,-83.5 86,-119.5 \"/>\n",
       "<text text-anchor=\"middle\" x=\"154.5\" y=\"-97.8\" font-family=\"Times,serif\" font-size=\"14.00\">torch.Size([1, 1])</text>\n",
       "<polyline fill=\"none\" stroke=\"black\" points=\"223,-83.5 223,-119.5 \"/>\n",
       "<text text-anchor=\"middle\" x=\"299\" y=\"-97.8\" font-family=\"Times,serif\" font-size=\"14.00\">grad [[1.1743757]]</text>\n",
       "</g>\n",
       "<!-- 139304571053392@ -->\n",
       "<g id=\"node6\" class=\"node\">\n",
       "<title>139304571053392@</title>\n",
       "<ellipse fill=\"none\" stroke=\"black\" cx=\"495\" cy=\"-73.5\" rx=\"27\" ry=\"18\"/>\n",
       "<text text-anchor=\"middle\" x=\"495\" y=\"-69.8\" font-family=\"Times,serif\" font-size=\"14.00\">@</text>\n",
       "</g>\n",
       "<!-- 139304571159072&#45;&gt;139304571053392@ -->\n",
       "<g id=\"edge3\" class=\"edge\">\n",
       "<title>139304571159072&#45;&gt;139304571053392@</title>\n",
       "<path fill=\"none\" stroke=\"black\" d=\"M375.32,-85.5C406.36,-82.36 436.04,-79.36 457.95,-77.14\"/>\n",
       "<polygon fill=\"black\" stroke=\"black\" points=\"458.46,-80.61 468.06,-76.12 457.76,-73.65 458.46,-80.61\"/>\n",
       "</g>\n",
       "<!-- 139304571159744 -->\n",
       "<g id=\"node2\" class=\"node\">\n",
       "<title>139304571159744</title>\n",
       "<polygon fill=\"none\" stroke=\"black\" points=\"0,-28.5 0,-64.5 432,-64.5 432,-28.5 0,-28.5\"/>\n",
       "<text text-anchor=\"middle\" x=\"12.5\" y=\"-42.8\" font-family=\"Times,serif\" font-size=\"14.00\">a</text>\n",
       "<polyline fill=\"none\" stroke=\"black\" points=\"25,-28.5 25,-64.5 \"/>\n",
       "<text text-anchor=\"middle\" x=\"93.5\" y=\"-42.8\" font-family=\"Times,serif\" font-size=\"14.00\">torch.Size([2, 1])</text>\n",
       "<polyline fill=\"none\" stroke=\"black\" points=\"162,-28.5 162,-64.5 \"/>\n",
       "<text text-anchor=\"middle\" x=\"297\" y=\"-42.8\" font-family=\"Times,serif\" font-size=\"14.00\">grad [[&#45;0.32168287] [&#45;0.32168287]]</text>\n",
       "</g>\n",
       "<!-- 139304571159744&#45;&gt;139304571053392@ -->\n",
       "<g id=\"edge4\" class=\"edge\">\n",
       "<title>139304571159744&#45;&gt;139304571053392@</title>\n",
       "<path fill=\"none\" stroke=\"black\" d=\"M401.76,-64.51C422.89,-66.57 442.39,-68.47 457.97,-69.99\"/>\n",
       "<polygon fill=\"black\" stroke=\"black\" points=\"457.81,-73.49 468.1,-70.98 458.49,-66.52 457.81,-73.49\"/>\n",
       "</g>\n",
       "<!-- 139304571052816 -->\n",
       "<g id=\"node3\" class=\"node\">\n",
       "<title>139304571052816</title>\n",
       "<polygon fill=\"none\" stroke=\"black\" points=\"1003,-27.5 1003,-63.5 1281,-63.5 1281,-27.5 1003,-27.5\"/>\n",
       "<text text-anchor=\"middle\" x=\"1015\" y=\"-41.8\" font-family=\"Times,serif\" font-size=\"14.00\">z</text>\n",
       "<polyline fill=\"none\" stroke=\"black\" points=\"1027,-27.5 1027,-63.5 \"/>\n",
       "<text text-anchor=\"middle\" x=\"1095.5\" y=\"-41.8\" font-family=\"Times,serif\" font-size=\"14.00\">torch.Size([2, 1])</text>\n",
       "<polyline fill=\"none\" stroke=\"black\" points=\"1164,-27.5 1164,-63.5 \"/>\n",
       "<text text-anchor=\"middle\" x=\"1222.5\" y=\"-41.8\" font-family=\"Times,serif\" font-size=\"14.00\">grad [[1.] [1.]]</text>\n",
       "</g>\n",
       "<!-- 139304571052816+ -->\n",
       "<g id=\"node4\" class=\"node\">\n",
       "<title>139304571052816+</title>\n",
       "<ellipse fill=\"none\" stroke=\"black\" cx=\"940\" cy=\"-45.5\" rx=\"27\" ry=\"18\"/>\n",
       "<text text-anchor=\"middle\" x=\"940\" y=\"-41.8\" font-family=\"Times,serif\" font-size=\"14.00\">+</text>\n",
       "</g>\n",
       "<!-- 139304571052816+&#45;&gt;139304571052816 -->\n",
       "<g id=\"edge1\" class=\"edge\">\n",
       "<title>139304571052816+&#45;&gt;139304571052816</title>\n",
       "<path fill=\"none\" stroke=\"black\" d=\"M967.15,-45.5C974.61,-45.5 983.32,-45.5 992.78,-45.5\"/>\n",
       "<polygon fill=\"black\" stroke=\"black\" points=\"992.9,-49 1002.9,-45.5 992.9,-42 992.9,-49\"/>\n",
       "</g>\n",
       "<!-- 139304571053392 -->\n",
       "<g id=\"node5\" class=\"node\">\n",
       "<title>139304571053392</title>\n",
       "<polygon fill=\"none\" stroke=\"black\" points=\"558,-55.5 558,-91.5 877,-91.5 877,-55.5 558,-55.5\"/>\n",
       "<text text-anchor=\"middle\" x=\"590.5\" y=\"-69.8\" font-family=\"Times,serif\" font-size=\"14.00\">interm</text>\n",
       "<polyline fill=\"none\" stroke=\"black\" points=\"623,-55.5 623,-91.5 \"/>\n",
       "<text text-anchor=\"middle\" x=\"691.5\" y=\"-69.8\" font-family=\"Times,serif\" font-size=\"14.00\">torch.Size([2, 1])</text>\n",
       "<polyline fill=\"none\" stroke=\"black\" points=\"760,-55.5 760,-91.5 \"/>\n",
       "<text text-anchor=\"middle\" x=\"818.5\" y=\"-69.8\" font-family=\"Times,serif\" font-size=\"14.00\">grad [[1.] [1.]]</text>\n",
       "</g>\n",
       "<!-- 139304571053392&#45;&gt;139304571052816+ -->\n",
       "<g id=\"edge6\" class=\"edge\">\n",
       "<title>139304571053392&#45;&gt;139304571052816+</title>\n",
       "<path fill=\"none\" stroke=\"black\" d=\"M860.33,-55.49C875.98,-53.5 890.7,-51.63 903.08,-50.06\"/>\n",
       "<polygon fill=\"black\" stroke=\"black\" points=\"903.84,-53.49 913.32,-48.76 902.96,-46.55 903.84,-53.49\"/>\n",
       "</g>\n",
       "<!-- 139304571053392@&#45;&gt;139304571053392 -->\n",
       "<g id=\"edge2\" class=\"edge\">\n",
       "<title>139304571053392@&#45;&gt;139304571053392</title>\n",
       "<path fill=\"none\" stroke=\"black\" d=\"M522.16,-73.5C529.53,-73.5 538.13,-73.5 547.53,-73.5\"/>\n",
       "<polygon fill=\"black\" stroke=\"black\" points=\"547.6,-77 557.6,-73.5 547.6,-70 547.6,-77\"/>\n",
       "</g>\n",
       "<!-- 139304571378512 -->\n",
       "<g id=\"node7\" class=\"node\">\n",
       "<title>139304571378512</title>\n",
       "<polygon fill=\"none\" stroke=\"black\" points=\"591.5,-0.5 591.5,-36.5 843.5,-36.5 843.5,-0.5 591.5,-0.5\"/>\n",
       "<text text-anchor=\"middle\" x=\"604.5\" y=\"-14.8\" font-family=\"Times,serif\" font-size=\"14.00\">b</text>\n",
       "<polyline fill=\"none\" stroke=\"black\" points=\"617.5,-0.5 617.5,-36.5 \"/>\n",
       "<text text-anchor=\"middle\" x=\"686\" y=\"-14.8\" font-family=\"Times,serif\" font-size=\"14.00\">torch.Size([1, 1])</text>\n",
       "<polyline fill=\"none\" stroke=\"black\" points=\"754.5,-0.5 754.5,-36.5 \"/>\n",
       "<text text-anchor=\"middle\" x=\"799\" y=\"-14.8\" font-family=\"Times,serif\" font-size=\"14.00\">grad [[2.]]</text>\n",
       "</g>\n",
       "<!-- 139304571378512&#45;&gt;139304571052816+ -->\n",
       "<g id=\"edge5\" class=\"edge\">\n",
       "<title>139304571378512&#45;&gt;139304571052816+</title>\n",
       "<path fill=\"none\" stroke=\"black\" d=\"M843.57,-33.81C865.26,-36.47 886.17,-39.03 902.86,-41.07\"/>\n",
       "<polygon fill=\"black\" stroke=\"black\" points=\"902.83,-44.6 913.18,-42.34 903.68,-37.65 902.83,-44.6\"/>\n",
       "</g>\n",
       "</g>\n",
       "</svg>\n"
      ],
      "text/plain": [
       "<graphviz.graphs.Digraph at 0x7eb25f7e1df0>"
      ]
     },
     "execution_count": 80,
     "metadata": {},
     "output_type": "execute_result"
    }
   ],
   "source": [
    "draw_dot(z)"
   ]
  },
  {
   "cell_type": "code",
   "execution_count": 78,
   "id": "4d024e12-74f5-4724-808d-65fd76e48dd6",
   "metadata": {},
   "outputs": [],
   "source": [
    "z.grad = torch.ones_like(z.data)"
   ]
  },
  {
   "cell_type": "code",
   "execution_count": 79,
   "id": "8cfbd793-a8eb-4aca-9d4b-6c78eeccda7f",
   "metadata": {},
   "outputs": [],
   "source": [
    "z._backward()\n",
    "interm._backward()\n",
    "# (other.grad, other.data, out.grad)"
   ]
  },
  {
   "cell_type": "code",
   "execution_count": 82,
   "id": "953464dd-ba28-48b9-82c3-5acafcb3f416",
   "metadata": {},
   "outputs": [
    {
     "name": "stdout",
     "output_type": "stream",
     "text": [
      "Gradient of the a tensor: tensor([[-0.3217],\n",
      "        [-0.3217]])\n",
      "Gradient of the w tensor: tensor([[1.1744]])\n",
      "Gradient of the b tensor: tensor([[2.]])\n"
     ]
    }
   ],
   "source": [
    "import torch\n",
    "\n",
    "# Define the calculation\n",
    "# a1 = torch.tensor([[1, 2],[3,4]], dtype=torch.float32, requires_grad=True)\n",
    "# w1 = torch.tensor([[2,4],[5,1]], dtype=torch.float32, requires_grad=True)\n",
    "# b1 = torch.tensor([[10, 20], [30, 40]], dtype=torch.float32, requires_grad=True)\n",
    "\n",
    "# a1 = torch.tensor([[1, 2],[3,4]], dtype=torch.float32, requires_grad=True)\n",
    "# w1 = torch.tensor([[2,4],[5,1]],dtype=torch.float32, requires_grad=True)\n",
    "# b1 = torch.tensor([10, 20], dtype=torch.float32, requires_grad=True)\n",
    "\n",
    "# a1 = torch.tensor([[10, 12],[23,14]], dtype=torch.float32, requires_grad=True)\n",
    "# b1 = torch.tensor([[10, 20], [30, 40]],dtype=torch.float32, requires_grad=True)\n",
    "# w1 = torch.tensor([[21,4],[5,12]], dtype=torch.float32, requires_grad=True)\n",
    "\n",
    "# w1 = torch.randn(1, 1, requires_grad=True)\n",
    "# b1 = torch.randn(1, 1, requires_grad=True)\n",
    "# a1 = torch.randn(100, 1, requires_grad=True)\n",
    "\n",
    "\n",
    "temp = (a1 @ w1) + b1\n",
    "\n",
    "# Create a scalar tensor to use as the loss\n",
    "loss = temp.sum()\n",
    "\n",
    "# Compute gradients\n",
    "loss.backward()\n",
    "\n",
    "# Access gradients of the input tensors\n",
    "print(\"Gradient of the a tensor:\", a1.grad)\n",
    "print(\"Gradient of the w tensor:\", w1.grad)\n",
    "print(\"Gradient of the b tensor:\", b1.grad)\n"
   ]
  },
  {
   "cell_type": "code",
   "execution_count": 59,
   "id": "79bea8e3-d0af-442d-aba2-2246f347ae7b",
   "metadata": {},
   "outputs": [],
   "source": [
    "# z._backward()"
   ]
  },
  {
   "cell_type": "code",
   "execution_count": 83,
   "id": "3efa2c7a-8836-4c71-a310-375e568ef293",
   "metadata": {},
   "outputs": [
    {
     "name": "stdout",
     "output_type": "stream",
     "text": [
      "Gradient of the a tensor: tensor([[-0.3217],\n",
      "        [-0.3217]], grad_fn=<AddBackward0>)\n",
      "Gradient of the w tensor: tensor([[1.1744]], grad_fn=<AddBackward0>)\n",
      "Gradient of the b tensor: tensor([[2.]])\n"
     ]
    }
   ],
   "source": [
    "# Access gradients of the input tensors\n",
    "print(\"Gradient of the a tensor:\", a.grad)\n",
    "print(\"Gradient of the w tensor:\", w.grad)\n",
    "print(\"Gradient of the b tensor:\", b.grad)"
   ]
  },
  {
   "cell_type": "code",
   "execution_count": 61,
   "id": "b42531d7-d9c8-49f7-91b5-f223995ecf6f",
   "metadata": {},
   "outputs": [
    {
     "name": "stdout",
     "output_type": "stream",
     "text": [
      "torch.Size([2])\n"
     ]
    }
   ],
   "source": [
    "import torch\n",
    "\n",
    "tensor1 = torch.tensor([1, 2])\n",
    "tensor2 = torch.tensor([[1, 2], [2, 2]])\n",
    "\n",
    "result = tensor1.unsqueeze(0) @ tensor2\n",
    "print(result.squeeze(0).shape)\n"
   ]
  },
  {
   "cell_type": "code",
   "execution_count": 62,
   "id": "902e1df4-73be-4254-abe4-bcbe95663c3f",
   "metadata": {},
   "outputs": [
    {
     "data": {
      "text/plain": [
       "torch.Size([1, 2])"
      ]
     },
     "execution_count": 62,
     "metadata": {},
     "output_type": "execute_result"
    }
   ],
   "source": [
    "tensor1.unsqueeze(0).shape"
   ]
  },
  {
   "cell_type": "code",
   "execution_count": 63,
   "id": "3d2bbc2f-eaa9-4d6e-bdb9-859c64c6139b",
   "metadata": {},
   "outputs": [
    {
     "data": {
      "text/plain": [
       "torch.Size([2, 2])"
      ]
     },
     "execution_count": 63,
     "metadata": {},
     "output_type": "execute_result"
    }
   ],
   "source": [
    "tensor2.shape"
   ]
  },
  {
   "cell_type": "code",
   "execution_count": 64,
   "id": "b2ad9f05-c4d2-40b7-afef-f621d5005cea",
   "metadata": {},
   "outputs": [
    {
     "data": {
      "text/plain": [
       "tensor([[5, 6]])"
      ]
     },
     "execution_count": 64,
     "metadata": {},
     "output_type": "execute_result"
    }
   ],
   "source": [
    "tensor1.unsqueeze(0) @ tensor2"
   ]
  },
  {
   "cell_type": "code",
   "execution_count": null,
   "id": "0f9022b5-c955-463a-8882-afd230b3a6fe",
   "metadata": {},
   "outputs": [],
   "source": []
  },
  {
   "cell_type": "code",
   "execution_count": null,
   "id": "c37fad26-f415-4edd-97e9-edd6ed035eb5",
   "metadata": {},
   "outputs": [],
   "source": []
  },
  {
   "cell_type": "code",
   "execution_count": null,
   "id": "7f3ea175-545a-42ef-be0d-c34904a6560f",
   "metadata": {},
   "outputs": [],
   "source": []
  },
  {
   "cell_type": "code",
   "execution_count": null,
   "id": "63899f56-2b87-4796-b874-59dcd892b13e",
   "metadata": {},
   "outputs": [],
   "source": []
  },
  {
   "cell_type": "code",
   "execution_count": null,
   "id": "9c00a0d2-985e-4730-8d36-da2e74daf2e0",
   "metadata": {},
   "outputs": [],
   "source": []
  },
  {
   "cell_type": "code",
   "execution_count": null,
   "id": "964e9e2a-6952-48fa-ba87-46adf5dcfa1d",
   "metadata": {},
   "outputs": [],
   "source": []
  },
  {
   "cell_type": "code",
   "execution_count": null,
   "id": "96ede1a7-b334-42c7-ab8b-fbf48fe259f9",
   "metadata": {},
   "outputs": [],
   "source": []
  },
  {
   "cell_type": "code",
   "execution_count": null,
   "id": "76f159a7-eb64-4c61-a788-ef604dbd8d28",
   "metadata": {},
   "outputs": [],
   "source": []
  },
  {
   "cell_type": "code",
   "execution_count": null,
   "id": "268d6588-310f-40e0-9750-a5dc8e1516e1",
   "metadata": {},
   "outputs": [],
   "source": []
  },
  {
   "cell_type": "code",
   "execution_count": null,
   "id": "f24857b0-ffff-4e2b-9689-d3e31f4b5ce1",
   "metadata": {},
   "outputs": [],
   "source": []
  },
  {
   "cell_type": "code",
   "execution_count": null,
   "id": "5a1193ef-27fd-4bba-80d6-72af6ade7f86",
   "metadata": {},
   "outputs": [],
   "source": []
  },
  {
   "cell_type": "code",
   "execution_count": null,
   "id": "7c7eb453-35cf-40e3-ba01-00058e905245",
   "metadata": {},
   "outputs": [],
   "source": []
  },
  {
   "cell_type": "code",
   "execution_count": null,
   "id": "dd243e11-8ab4-4add-8332-b4b5aebdece0",
   "metadata": {},
   "outputs": [],
   "source": []
  },
  {
   "cell_type": "code",
   "execution_count": null,
   "id": "9471de90-06d4-4951-a310-3a90d0abcbc4",
   "metadata": {},
   "outputs": [],
   "source": []
  },
  {
   "cell_type": "code",
   "execution_count": null,
   "id": "05f138e5-9523-48c1-bc99-f996ee5304c7",
   "metadata": {},
   "outputs": [],
   "source": []
  },
  {
   "cell_type": "code",
   "execution_count": null,
   "id": "517d40c2-cb2b-4c57-9488-f00e6947249d",
   "metadata": {},
   "outputs": [],
   "source": []
  },
  {
   "cell_type": "code",
   "execution_count": null,
   "id": "ed59da48-1c89-42ce-b89a-27d8a50ce414",
   "metadata": {},
   "outputs": [],
   "source": []
  },
  {
   "cell_type": "code",
   "execution_count": null,
   "id": "e6177f8c-897b-47e0-bf58-5a5368f3effe",
   "metadata": {},
   "outputs": [],
   "source": []
  },
  {
   "cell_type": "code",
   "execution_count": null,
   "id": "3bac3107-b928-474d-96d7-020baada2d1e",
   "metadata": {},
   "outputs": [],
   "source": []
  },
  {
   "cell_type": "code",
   "execution_count": null,
   "id": "f6535855-8ced-4b61-98e0-e129a1ab0fac",
   "metadata": {},
   "outputs": [],
   "source": []
  },
  {
   "cell_type": "code",
   "execution_count": null,
   "id": "93b5aea0-ec3a-4491-8a26-30970662e0a7",
   "metadata": {},
   "outputs": [],
   "source": []
  },
  {
   "cell_type": "code",
   "execution_count": null,
   "id": "0a367ae6-a4cb-45ac-8d3f-5e2833121bbd",
   "metadata": {},
   "outputs": [],
   "source": []
  },
  {
   "cell_type": "code",
   "execution_count": null,
   "id": "ede3ab48-0307-4bff-a819-666686395549",
   "metadata": {},
   "outputs": [],
   "source": []
  },
  {
   "cell_type": "code",
   "execution_count": null,
   "id": "05ac23db-9398-4a32-9f2d-c448bb96f0f1",
   "metadata": {},
   "outputs": [],
   "source": []
  },
  {
   "cell_type": "code",
   "execution_count": null,
   "id": "ea2cf78c-1400-44e0-9709-4dbffe168a61",
   "metadata": {},
   "outputs": [],
   "source": []
  },
  {
   "cell_type": "code",
   "execution_count": null,
   "id": "1751267b-fe47-4521-a985-93a1f5624837",
   "metadata": {},
   "outputs": [],
   "source": []
  },
  {
   "cell_type": "code",
   "execution_count": null,
   "id": "c6363972-e380-4d01-abcd-9cefee0c9458",
   "metadata": {},
   "outputs": [],
   "source": []
  },
  {
   "cell_type": "code",
   "execution_count": null,
   "id": "2559fb91-79fc-4ecf-bda7-01b157017ae1",
   "metadata": {},
   "outputs": [],
   "source": []
  },
  {
   "cell_type": "code",
   "execution_count": null,
   "id": "6734b8f4-5b59-4223-bc2c-81cb41859a05",
   "metadata": {},
   "outputs": [],
   "source": []
  },
  {
   "cell_type": "code",
   "execution_count": null,
   "id": "88ecf38d-fcf2-4e35-a5f9-4b5064089325",
   "metadata": {},
   "outputs": [],
   "source": []
  }
 ],
 "metadata": {
  "kernelspec": {
   "display_name": "Python 3 (ipykernel)",
   "language": "python",
   "name": "python3"
  },
  "language_info": {
   "codemirror_mode": {
    "name": "ipython",
    "version": 3
   },
   "file_extension": ".py",
   "mimetype": "text/x-python",
   "name": "python",
   "nbconvert_exporter": "python",
   "pygments_lexer": "ipython3",
   "version": "3.8.18"
  }
 },
 "nbformat": 4,
 "nbformat_minor": 5
}
